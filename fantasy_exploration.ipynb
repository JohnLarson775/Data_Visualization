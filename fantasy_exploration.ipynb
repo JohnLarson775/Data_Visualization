{
 "cells": [
  {
   "cell_type": "markdown",
   "metadata": {},
   "source": [
    "# Sportsball 2018 - Visualizing a Fantasy Football Season\n",
    "## by John Larson\n",
    "\n",
    "## Preliminary Wrangling\n",
    "\n",
    "> My fantasy football league is managed through ESPN. There are a limited number of features on the league page for gaining insights into player performance. This can make it difficult for league members to manage their teams effectively. The goal of this project is to create helpful visualizations to help league members understand strengths/weaknesses and where they rank in the league.\n",
    ">\n",
    "> Two dataframes were created through ESPN's accessible fantasy football API. [Steven Morse](https://stmorse.github.io/), an instructor in the Department of Mathematics at the U.S. Military Academy, posted a couple articles containing instructions and code that were instrumental in helping me efficienctly create [seasonscores](https://stmorse.github.io/journal/espn-fantasy-python.html) and [boxscores](https://stmorse.github.io/journal/espn-fantasy-2-python.html) csv files using ESPN's API. The script that creates these files is included in this project submittal as `espn_api_to_csv.py`. Steven's articles also inspired me to make boxplots and radial charts to visualize data for my league.\n",
    ">\n",
    "> After creating the csvs, team names were manually changed in Excel to generic \"Team 1\", \"Team 2\", etc."
   ]
  },
  {
   "cell_type": "code",
   "execution_count": 1,
   "metadata": {},
   "outputs": [
    {
     "data": {
      "text/html": [
       "<script>requirejs.config({paths: { 'plotly': ['https://cdn.plot.ly/plotly-latest.min']},});if(!window.Plotly) {{require(['plotly'],function(plotly) {window.Plotly=plotly;});}}</script>"
      ],
      "text/vnd.plotly.v1+html": [
       "<script>requirejs.config({paths: { 'plotly': ['https://cdn.plot.ly/plotly-latest.min']},});if(!window.Plotly) {{require(['plotly'],function(plotly) {window.Plotly=plotly;});}}</script>"
      ]
     },
     "metadata": {},
     "output_type": "display_data"
    }
   ],
   "source": [
    "# import all packages and set plots to be embedded inline:\n",
    "import numpy as np\n",
    "import pandas as pd\n",
    "from plotly.offline import plot, iplot, init_notebook_mode\n",
    "import plotly.graph_objs as go\n",
    "# Make plotly work with Jupyter notebook\n",
    "init_notebook_mode(connected = True)"
   ]
  },
  {
   "cell_type": "code",
   "execution_count": 2,
   "metadata": {},
   "outputs": [],
   "source": [
    "# Load in datasets:\n",
    "boxscores = pd.read_csv('espn-api-to-csv/boxscores.csv')\n",
    "seasonscores = pd.read_csv('espn-api-to-csv/seasonscores.csv')"
   ]
  },
  {
   "cell_type": "markdown",
   "metadata": {},
   "source": [
    "### Dataset Structure"
   ]
  },
  {
   "cell_type": "code",
   "execution_count": 3,
   "metadata": {},
   "outputs": [
    {
     "name": "stdout",
     "output_type": "stream",
     "text": [
      "<class 'pandas.core.frame.DataFrame'>\n",
      "RangeIndex: 156 entries, 0 to 155\n",
      "Data columns (total 5 columns):\n",
      "Week     156 non-null int64\n",
      "Team     156 non-null object\n",
      "Id       156 non-null int64\n",
      "Score    156 non-null float64\n",
      "Type     156 non-null object\n",
      "dtypes: float64(1), int64(2), object(2)\n",
      "memory usage: 6.2+ KB\n"
     ]
    }
   ],
   "source": [
    "seasonscores.info()"
   ]
  },
  {
   "cell_type": "code",
   "execution_count": 4,
   "metadata": {},
   "outputs": [
    {
     "data": {
      "text/html": [
       "<div>\n",
       "<style scoped>\n",
       "    .dataframe tbody tr th:only-of-type {\n",
       "        vertical-align: middle;\n",
       "    }\n",
       "\n",
       "    .dataframe tbody tr th {\n",
       "        vertical-align: top;\n",
       "    }\n",
       "\n",
       "    .dataframe thead th {\n",
       "        text-align: right;\n",
       "    }\n",
       "</style>\n",
       "<table border=\"1\" class=\"dataframe\">\n",
       "  <thead>\n",
       "    <tr style=\"text-align: right;\">\n",
       "      <th></th>\n",
       "      <th>Week</th>\n",
       "      <th>Team</th>\n",
       "      <th>Id</th>\n",
       "      <th>Score</th>\n",
       "      <th>Type</th>\n",
       "    </tr>\n",
       "  </thead>\n",
       "  <tbody>\n",
       "    <tr>\n",
       "      <th>7</th>\n",
       "      <td>2</td>\n",
       "      <td>Team 10</td>\n",
       "      <td>10</td>\n",
       "      <td>106.3</td>\n",
       "      <td>Regular</td>\n",
       "    </tr>\n",
       "  </tbody>\n",
       "</table>\n",
       "</div>"
      ],
      "text/plain": [
       "   Week     Team  Id  Score     Type\n",
       "7     2  Team 10  10  106.3  Regular"
      ]
     },
     "execution_count": 4,
     "metadata": {},
     "output_type": "execute_result"
    }
   ],
   "source": [
    "seasonscores.sample()"
   ]
  },
  {
   "cell_type": "code",
   "execution_count": 5,
   "metadata": {},
   "outputs": [
    {
     "name": "stdout",
     "output_type": "stream",
     "text": [
      "<class 'pandas.core.frame.DataFrame'>\n",
      "RangeIndex: 2496 entries, 0 to 2495\n",
      "Data columns (total 9 columns):\n",
      "playerName          2496 non-null object\n",
      "matchupPeriodId     2496 non-null int64\n",
      "slotId              2496 non-null int64\n",
      "position            2496 non-null object\n",
      "bye                 2496 non-null bool\n",
      "appliedStatTotal    2496 non-null float64\n",
      "teamName            2496 non-null object\n",
      "wonMatchup          2496 non-null bool\n",
      "W/L                 2496 non-null object\n",
      "dtypes: bool(2), float64(1), int64(2), object(4)\n",
      "memory usage: 141.5+ KB\n"
     ]
    }
   ],
   "source": [
    "boxscores.info()"
   ]
  },
  {
   "cell_type": "code",
   "execution_count": 6,
   "metadata": {},
   "outputs": [
    {
     "data": {
      "text/html": [
       "<div>\n",
       "<style scoped>\n",
       "    .dataframe tbody tr th:only-of-type {\n",
       "        vertical-align: middle;\n",
       "    }\n",
       "\n",
       "    .dataframe tbody tr th {\n",
       "        vertical-align: top;\n",
       "    }\n",
       "\n",
       "    .dataframe thead th {\n",
       "        text-align: right;\n",
       "    }\n",
       "</style>\n",
       "<table border=\"1\" class=\"dataframe\">\n",
       "  <thead>\n",
       "    <tr style=\"text-align: right;\">\n",
       "      <th></th>\n",
       "      <th>playerName</th>\n",
       "      <th>matchupPeriodId</th>\n",
       "      <th>slotId</th>\n",
       "      <th>position</th>\n",
       "      <th>bye</th>\n",
       "      <th>appliedStatTotal</th>\n",
       "      <th>teamName</th>\n",
       "      <th>wonMatchup</th>\n",
       "      <th>W/L</th>\n",
       "    </tr>\n",
       "  </thead>\n",
       "  <tbody>\n",
       "    <tr>\n",
       "      <th>1415</th>\n",
       "      <td>T.J. Yeldon</td>\n",
       "      <td>8</td>\n",
       "      <td>23</td>\n",
       "      <td>RB</td>\n",
       "      <td>False</td>\n",
       "      <td>12.5</td>\n",
       "      <td>Team 6</td>\n",
       "      <td>True</td>\n",
       "      <td>W</td>\n",
       "    </tr>\n",
       "  </tbody>\n",
       "</table>\n",
       "</div>"
      ],
      "text/plain": [
       "       playerName  matchupPeriodId  slotId position    bye  appliedStatTotal  \\\n",
       "1415  T.J. Yeldon                8      23       RB  False              12.5   \n",
       "\n",
       "     teamName  wonMatchup W/L  \n",
       "1415   Team 6        True   W  "
      ]
     },
     "execution_count": 6,
     "metadata": {},
     "output_type": "execute_result"
    }
   ],
   "source": [
    "boxscores.sample()"
   ]
  },
  {
   "cell_type": "markdown",
   "metadata": {},
   "source": [
    "### Dataset Features\n",
    "\n",
    "> `seasonscores` is 156 rows x 5 columns. The columns contain the following information:\n",
    "> \n",
    ">  - `Week` = Ranges from 1 to 13, describing the week of a given matchup.\n",
    ">  - `Team` = Team name.\n",
    ">  - `Id` = Unique identifier for each team. Managers can change team name throughout the season, but `Id` stays constant.\n",
    ">  - `Score` = Fantasy team score for a given week.\n",
    ">  - `Type` = Describing the type of matchup. These are all \"Regular\" for weeks 1-13. \"Playoff\" would be the other type of matchup that could be explored in a different project.\n",
    ">\n",
    "> `boxscores` is 2496 rows x 9 columns. The columns contain the following information:\n",
    "> \n",
    ">  - `playerName` = Football player's name.\n",
    ">  - `matchupPeriodId` = Equivalent to `Week` in `seasonscores`.\n",
    ">  - `slotId` = Defines the position in a team's lineup.\n",
    ">  - `position` = Football player's position.\n",
    ">  - `bye` = Identifies if the football player has a \"bye\" on given `matchupPeriodId`.\n",
    ">  - `appliedStatTotal` = Football player's fantasy score for given `matchupPeriodId`.\n",
    ">  - `teamName` = Equivalent to `Team` in `seasonscores`.\n",
    ">  - `wonMatchup` = Describes whether of not `teamName` won their matchup for given `matchupPeriodId`.\n",
    ">  - `W/L` = Based off boolean value from `wonMatchup`."
   ]
  },
  {
   "cell_type": "markdown",
   "metadata": {},
   "source": [
    "### Features of Interest\n",
    "\n",
    "> Some interesting variables and relationships to consider include the following:\n",
    "> \n",
    ">  - Who were the top performers on any given team?\n",
    ">  - How did each team do in term of scores over the course of the regular season?\n",
    ">  - Were good/bad scores at the different positions indicative of wins/losses for each team?"
   ]
  },
  {
   "cell_type": "markdown",
   "metadata": {},
   "source": [
    "## Univariate Exploration\n",
    "Let's see who my top performers for the season were. This could be shown with a bar chart. I prefer plotly for its interactive capabilities."
   ]
  },
  {
   "cell_type": "code",
   "execution_count": 7,
   "metadata": {},
   "outputs": [],
   "source": [
    "selected_team = 'Team 4'"
   ]
  },
  {
   "cell_type": "code",
   "execution_count": 8,
   "metadata": {},
   "outputs": [
    {
     "data": {
      "application/vnd.plotly.v1+json": {
       "data": [
        {
         "type": "bar",
         "uid": "130bd606-25d2-11e9-b2df-c49ded227fdd",
         "x": [
          "James Conner",
          "Aaron Rodgers",
          "Stefon Diggs",
          "George Kittle",
          "Joe Mixon",
          "Matt Ryan",
          "Leonard Fournette",
          "Alshon Jeffery"
         ],
         "y": [
          209.90000000000003,
          179.33999999999997,
          168.7,
          141.3,
          121,
          83.6,
          81.8,
          74.19999999999999
         ]
        }
       ],
       "layout": {
        "title": "Top Players for Team 4",
        "yaxis": {
         "title": "Total Season Score"
        }
       }
      },
      "text/html": [
       "<div id=\"062a3615-1e48-481b-a402-aaabb86e8628\" style=\"height: 525px; width: 100%;\" class=\"plotly-graph-div\"></div><script type=\"text/javascript\">require([\"plotly\"], function(Plotly) { window.PLOTLYENV=window.PLOTLYENV || {};window.PLOTLYENV.BASE_URL=\"https://plot.ly\";Plotly.newPlot(\"062a3615-1e48-481b-a402-aaabb86e8628\", [{\"x\": [\"James Conner\", \"Aaron Rodgers\", \"Stefon Diggs\", \"George Kittle\", \"Joe Mixon\", \"Matt Ryan\", \"Leonard Fournette\", \"Alshon Jeffery\"], \"y\": [209.90000000000003, 179.33999999999997, 168.7, 141.3, 121.0, 83.6, 81.8, 74.19999999999999], \"type\": \"bar\", \"uid\": \"130d6370-25d2-11e9-be6a-c49ded227fdd\"}], {\"title\": \"Top Players for Team 4\", \"yaxis\": {\"title\": \"Total Season Score\"}}, {\"showLink\": true, \"linkText\": \"Export to plot.ly\"})});</script>"
      ],
      "text/vnd.plotly.v1+html": [
       "<div id=\"062a3615-1e48-481b-a402-aaabb86e8628\" style=\"height: 525px; width: 100%;\" class=\"plotly-graph-div\"></div><script type=\"text/javascript\">require([\"plotly\"], function(Plotly) { window.PLOTLYENV=window.PLOTLYENV || {};window.PLOTLYENV.BASE_URL=\"https://plot.ly\";Plotly.newPlot(\"062a3615-1e48-481b-a402-aaabb86e8628\", [{\"x\": [\"James Conner\", \"Aaron Rodgers\", \"Stefon Diggs\", \"George Kittle\", \"Joe Mixon\", \"Matt Ryan\", \"Leonard Fournette\", \"Alshon Jeffery\"], \"y\": [209.90000000000003, 179.33999999999997, 168.7, 141.3, 121.0, 83.6, 81.8, 74.19999999999999], \"type\": \"bar\", \"uid\": \"130d6370-25d2-11e9-be6a-c49ded227fdd\"}], {\"title\": \"Top Players for Team 4\", \"yaxis\": {\"title\": \"Total Season Score\"}}, {\"showLink\": true, \"linkText\": \"Export to plot.ly\"})});</script>"
      ]
     },
     "metadata": {},
     "output_type": "display_data"
    }
   ],
   "source": [
    "# Isolate one team:\n",
    "relevant_team = boxscores[boxscores['teamName'] == selected_team]\n",
    "# Eliminate bench players:\n",
    "relevant_players = relevant_team[relevant_team['slotId'] != 20]\n",
    "# Identify the top eight players for the season\n",
    "top_performers_list = relevant_players.groupby('playerName')['appliedStatTotal']\\\n",
    "    .sum().sort_values(ascending = False)[0:8].index.tolist()\n",
    "# Restrict relevant_players to the top performers:\n",
    "relevant_player_scores = relevant_players[relevant_players['playerName'].isin(top_performers_list)]\n",
    "# Top performers df:\n",
    "top_performers = relevant_player_scores.groupby('playerName')\\\n",
    "    .sum()['appliedStatTotal'].sort_values(ascending = False)\n",
    "\n",
    "data = [go.Bar(x = top_performers.keys(), y = top_performers.tolist())]\n",
    "\n",
    "layout = go.Layout(\n",
    "        title = 'Top Players for {}'.format(selected_team),\n",
    "        yaxis = {'title':'Total Season Score'})\n",
    "\n",
    "fig = {'data':data,'layout':layout}\n",
    "iplot(fig)"
   ]
  },
  {
   "cell_type": "markdown",
   "metadata": {},
   "source": [
    "James Conner lead my team to a championship this year, with 210 fantasy points over 13 weeks. Other notable contributors were my quarterback committee of Rodgers and Ryan, my top wide receiver Stefon Diggs, and a surprisingly successful George Kittle.\n",
    "\n",
    "With a clear visualization of my top performers, I'm curious as to how my team as a whole stacked up to other teams in the league."
   ]
  },
  {
   "cell_type": "markdown",
   "metadata": {},
   "source": [
    "## Bivariate Exploration"
   ]
  },
  {
   "cell_type": "markdown",
   "metadata": {},
   "source": [
    "Let's look at the distribution of regular season scores for all teams. This is a bivariate exploration of a categorical variable (`Team`) and a quantitative variable (`Score`). A boxplot will show this nicely."
   ]
  },
  {
   "cell_type": "code",
   "execution_count": 9,
   "metadata": {},
   "outputs": [
    {
     "data": {
      "application/vnd.plotly.v1+json": {
       "data": [
        {
         "boxpoints": "all",
         "jitter": 0.4,
         "name": "Team 3",
         "pointpos": 0,
         "text": [
          "Week 2",
          "Week 4",
          "Week 5",
          "Week 7",
          "Week 9",
          "Week 12",
          "Week 1",
          "Week 3",
          "Week 6",
          "Week 8",
          "Week 10",
          "Week 11",
          "Week 13"
         ],
         "type": "box",
         "uid": "13233a98-25d2-11e9-b7c0-c49ded227fdd",
         "y": [
          88.7,
          103.7,
          123.3,
          96.1,
          89.4,
          73.9,
          114,
          98.3,
          81.2,
          99.1,
          111.1,
          72,
          87.6
         ]
        },
        {
         "boxpoints": "all",
         "jitter": 0.4,
         "name": "Team 9",
         "pointpos": 0,
         "text": [
          "Week 1",
          "Week 2",
          "Week 4",
          "Week 6",
          "Week 7",
          "Week 9",
          "Week 11",
          "Week 3",
          "Week 5",
          "Week 8",
          "Week 10",
          "Week 12",
          "Week 13"
         ],
         "type": "box",
         "uid": "13233a99-25d2-11e9-b490-c49ded227fdd",
         "y": [
          76.7,
          99,
          72.3,
          87,
          88.7,
          75.5,
          118.6,
          85.9,
          110.2,
          133.4,
          112.3,
          87.6,
          105.4
         ]
        },
        {
         "boxpoints": "all",
         "jitter": 0.4,
         "name": "Team 1",
         "pointpos": 0,
         "text": [
          "Week 1",
          "Week 3",
          "Week 4",
          "Week 6",
          "Week 8",
          "Week 9",
          "Week 11",
          "Week 13",
          "Week 2",
          "Week 5",
          "Week 7",
          "Week 10",
          "Week 12"
         ],
         "type": "box",
         "uid": "13233a9a-25d2-11e9-81c2-c49ded227fdd",
         "y": [
          91.6,
          86,
          85.8,
          99.3,
          118.4,
          90.1,
          106,
          86.2,
          116,
          104.5,
          97.1,
          104.1,
          117.2
         ]
        },
        {
         "boxpoints": "all",
         "jitter": 0.4,
         "name": "Team 10",
         "pointpos": 0,
         "text": [
          "Week 2",
          "Week 3",
          "Week 5",
          "Week 7",
          "Week 10",
          "Week 12",
          "Week 1",
          "Week 4",
          "Week 6",
          "Week 8",
          "Week 9",
          "Week 11",
          "Week 13"
         ],
         "type": "box",
         "uid": "13233a9b-25d2-11e9-9068-c49ded227fdd",
         "y": [
          106.3,
          114.6,
          88.6,
          123.9,
          146.4,
          114.4,
          94.2,
          102.5,
          112.4,
          61.2,
          110.5,
          84.6,
          71.8
         ]
        },
        {
         "boxpoints": "all",
         "jitter": 0.4,
         "name": "Team 2",
         "pointpos": 0,
         "text": [
          "Week 2",
          "Week 5",
          "Week 7",
          "Week 9",
          "Week 10",
          "Week 12",
          "Week 1",
          "Week 3",
          "Week 4",
          "Week 6",
          "Week 8",
          "Week 11",
          "Week 13"
         ],
         "type": "box",
         "uid": "13233a9c-25d2-11e9-9099-c49ded227fdd",
         "y": [
          98.4,
          97.4,
          85.2,
          122.7,
          92.5,
          124,
          147.9,
          74.1,
          134.1,
          112.4,
          60,
          80.6,
          109.5
         ]
        },
        {
         "boxpoints": "all",
         "jitter": 0.4,
         "name": "Team 11",
         "pointpos": 0,
         "text": [
          "Week 2",
          "Week 4",
          "Week 7",
          "Week 9",
          "Week 11",
          "Week 12",
          "Week 1",
          "Week 3",
          "Week 5",
          "Week 6",
          "Week 8",
          "Week 10",
          "Week 13"
         ],
         "type": "box",
         "uid": "13233a9d-25d2-11e9-9676-c49ded227fdd",
         "y": [
          105.9,
          95.1,
          126.6,
          90.9,
          104.4,
          135,
          86,
          92.7,
          94.9,
          116.9,
          96.8,
          117.2,
          97.1
         ]
        },
        {
         "boxpoints": "all",
         "jitter": 0.4,
         "name": "Team 12",
         "pointpos": 0,
         "text": [
          "Week 2",
          "Week 4",
          "Week 6",
          "Week 8",
          "Week 10",
          "Week 12",
          "Week 1",
          "Week 3",
          "Week 5",
          "Week 7",
          "Week 9",
          "Week 11",
          "Week 13"
         ],
         "type": "box",
         "uid": "13233a9e-25d2-11e9-a401-c49ded227fdd",
         "y": [
          107,
          129.1,
          80.8,
          120,
          113.7,
          133.3,
          110.4,
          112.5,
          102.1,
          94.5,
          106.1,
          125.2,
          88.7
         ]
        },
        {
         "boxpoints": "all",
         "jitter": 0.4,
         "name": "Team 5",
         "pointpos": 0,
         "text": [
          "Week 1",
          "Week 4",
          "Week 6",
          "Week 9",
          "Week 11",
          "Week 13",
          "Week 2",
          "Week 3",
          "Week 5",
          "Week 7",
          "Week 8",
          "Week 10",
          "Week 12"
         ],
         "type": "box",
         "uid": "13233a9f-25d2-11e9-a7a8-c49ded227fdd",
         "y": [
          122.3,
          169.3,
          128.8,
          114.9,
          111.9,
          92.1,
          109.4,
          142.1,
          86.9,
          121.5,
          103.6,
          105.1,
          112.4
         ]
        },
        {
         "boxpoints": "all",
         "jitter": 0.4,
         "name": "Team 4",
         "pointpos": 0,
         "text": [
          "Week 3",
          "Week 5",
          "Week 7",
          "Week 8",
          "Week 10",
          "Week 12",
          "Week 13",
          "Week 1",
          "Week 2",
          "Week 4",
          "Week 6",
          "Week 9",
          "Week 11"
         ],
         "type": "box",
         "uid": "13233aa0-25d2-11e9-845e-c49ded227fdd",
         "y": [
          121.2,
          109.5,
          86,
          149.5,
          111.9,
          126.5,
          103.8,
          101,
          121.4,
          121.9,
          141.8,
          127.3,
          109.8
         ]
        },
        {
         "boxpoints": "all",
         "jitter": 0.4,
         "name": "Team 6",
         "pointpos": 0,
         "text": [
          "Week 1",
          "Week 3",
          "Week 6",
          "Week 8",
          "Week 11",
          "Week 13",
          "Week 2",
          "Week 4",
          "Week 5",
          "Week 7",
          "Week 9",
          "Week 10",
          "Week 12"
         ],
         "type": "box",
         "uid": "13233aa1-25d2-11e9-b5b3-c49ded227fdd",
         "y": [
          112.3,
          127.3,
          112.4,
          138.7,
          115.5,
          117.2,
          135.7,
          128.8,
          127.9,
          134.6,
          135.8,
          90.9,
          102.8
         ]
        },
        {
         "boxpoints": "all",
         "jitter": 0.4,
         "name": "Team 7",
         "pointpos": 0,
         "text": [
          "Week 1",
          "Week 3",
          "Week 5",
          "Week 6",
          "Week 8",
          "Week 10",
          "Week 11",
          "Week 13",
          "Week 2",
          "Week 4",
          "Week 7",
          "Week 9",
          "Week 12"
         ],
         "type": "box",
         "uid": "13233aa2-25d2-11e9-b7cf-c49ded227fdd",
         "y": [
          164.9,
          135.2,
          147.6,
          138,
          123.5,
          127.8,
          106.9,
          104.3,
          125.7,
          67.9,
          111.2,
          117.8,
          118.4
         ]
        },
        {
         "boxpoints": "all",
         "jitter": 0.4,
         "name": "Team 8",
         "pointpos": 0,
         "text": [
          "Week 1",
          "Week 3",
          "Week 5",
          "Week 8",
          "Week 10",
          "Week 13",
          "Week 2",
          "Week 4",
          "Week 6",
          "Week 7",
          "Week 9",
          "Week 11",
          "Week 12"
         ],
         "type": "box",
         "uid": "13233aa3-25d2-11e9-95bf-c49ded227fdd",
         "y": [
          74,
          95.4,
          90,
          136.3,
          128.2,
          125.6,
          143.6,
          155.2,
          108.7,
          151.1,
          98.5,
          154.9,
          132.3
         ]
        }
       ],
       "layout": {
        "showlegend": false,
        "title": "2018 Regular Season Fantasy Scoring",
        "yaxis": {
         "nticks": 10,
         "range": [
          50,
          170
         ],
         "title": "Score"
        }
       }
      },
      "text/html": [
       "<div id=\"0910067c-b011-42d3-a6b6-eec751c1c3cf\" style=\"height: 525px; width: 100%;\" class=\"plotly-graph-div\"></div><script type=\"text/javascript\">require([\"plotly\"], function(Plotly) { window.PLOTLYENV=window.PLOTLYENV || {};window.PLOTLYENV.BASE_URL=\"https://plot.ly\";Plotly.newPlot(\"0910067c-b011-42d3-a6b6-eec751c1c3cf\", [{\"boxpoints\": \"all\", \"jitter\": 0.4, \"name\": \"Team 3\", \"pointpos\": 0, \"text\": [\"Week 2\", \"Week 4\", \"Week 5\", \"Week 7\", \"Week 9\", \"Week 12\", \"Week 1\", \"Week 3\", \"Week 6\", \"Week 8\", \"Week 10\", \"Week 11\", \"Week 13\"], \"y\": [88.7, 103.7, 123.3, 96.1, 89.4, 73.9, 114.0, 98.3, 81.2, 99.1, 111.1, 72.0, 87.6], \"type\": \"box\", \"uid\": \"1329855a-25d2-11e9-b6f5-c49ded227fdd\"}, {\"boxpoints\": \"all\", \"jitter\": 0.4, \"name\": \"Team 9\", \"pointpos\": 0, \"text\": [\"Week 1\", \"Week 2\", \"Week 4\", \"Week 6\", \"Week 7\", \"Week 9\", \"Week 11\", \"Week 3\", \"Week 5\", \"Week 8\", \"Week 10\", \"Week 12\", \"Week 13\"], \"y\": [76.7, 99.0, 72.3, 87.0, 88.7, 75.5, 118.6, 85.9, 110.2, 133.4, 112.3, 87.6, 105.4], \"type\": \"box\", \"uid\": \"1329855b-25d2-11e9-9a31-c49ded227fdd\"}, {\"boxpoints\": \"all\", \"jitter\": 0.4, \"name\": \"Team 1\", \"pointpos\": 0, \"text\": [\"Week 1\", \"Week 3\", \"Week 4\", \"Week 6\", \"Week 8\", \"Week 9\", \"Week 11\", \"Week 13\", \"Week 2\", \"Week 5\", \"Week 7\", \"Week 10\", \"Week 12\"], \"y\": [91.6, 86.0, 85.8, 99.3, 118.4, 90.1, 106.0, 86.2, 116.0, 104.5, 97.1, 104.1, 117.2], \"type\": \"box\", \"uid\": \"1329855c-25d2-11e9-812e-c49ded227fdd\"}, {\"boxpoints\": \"all\", \"jitter\": 0.4, \"name\": \"Team 10\", \"pointpos\": 0, \"text\": [\"Week 2\", \"Week 3\", \"Week 5\", \"Week 7\", \"Week 10\", \"Week 12\", \"Week 1\", \"Week 4\", \"Week 6\", \"Week 8\", \"Week 9\", \"Week 11\", \"Week 13\"], \"y\": [106.3, 114.6, 88.6, 123.9, 146.4, 114.4, 94.2, 102.5, 112.4, 61.2, 110.5, 84.6, 71.8], \"type\": \"box\", \"uid\": \"1329855d-25d2-11e9-8d07-c49ded227fdd\"}, {\"boxpoints\": \"all\", \"jitter\": 0.4, \"name\": \"Team 2\", \"pointpos\": 0, \"text\": [\"Week 2\", \"Week 5\", \"Week 7\", \"Week 9\", \"Week 10\", \"Week 12\", \"Week 1\", \"Week 3\", \"Week 4\", \"Week 6\", \"Week 8\", \"Week 11\", \"Week 13\"], \"y\": [98.4, 97.4, 85.2, 122.7, 92.5, 124.0, 147.9, 74.1, 134.1, 112.4, 60.0, 80.6, 109.5], \"type\": \"box\", \"uid\": \"1329855e-25d2-11e9-9159-c49ded227fdd\"}, {\"boxpoints\": \"all\", \"jitter\": 0.4, \"name\": \"Team 11\", \"pointpos\": 0, \"text\": [\"Week 2\", \"Week 4\", \"Week 7\", \"Week 9\", \"Week 11\", \"Week 12\", \"Week 1\", \"Week 3\", \"Week 5\", \"Week 6\", \"Week 8\", \"Week 10\", \"Week 13\"], \"y\": [105.9, 95.1, 126.6, 90.9, 104.4, 135.0, 86.0, 92.7, 94.9, 116.9, 96.8, 117.2, 97.1], \"type\": \"box\", \"uid\": \"1329855f-25d2-11e9-afaa-c49ded227fdd\"}, {\"boxpoints\": \"all\", \"jitter\": 0.4, \"name\": \"Team 12\", \"pointpos\": 0, \"text\": [\"Week 2\", \"Week 4\", \"Week 6\", \"Week 8\", \"Week 10\", \"Week 12\", \"Week 1\", \"Week 3\", \"Week 5\", \"Week 7\", \"Week 9\", \"Week 11\", \"Week 13\"], \"y\": [107.0, 129.1, 80.8, 120.0, 113.7, 133.3, 110.4, 112.5, 102.1, 94.5, 106.1, 125.2, 88.7], \"type\": \"box\", \"uid\": \"13298560-25d2-11e9-90c5-c49ded227fdd\"}, {\"boxpoints\": \"all\", \"jitter\": 0.4, \"name\": \"Team 5\", \"pointpos\": 0, \"text\": [\"Week 1\", \"Week 4\", \"Week 6\", \"Week 9\", \"Week 11\", \"Week 13\", \"Week 2\", \"Week 3\", \"Week 5\", \"Week 7\", \"Week 8\", \"Week 10\", \"Week 12\"], \"y\": [122.3, 169.3, 128.8, 114.9, 111.9, 92.1, 109.4, 142.1, 86.9, 121.5, 103.6, 105.1, 112.4], \"type\": \"box\", \"uid\": \"13298561-25d2-11e9-8cd9-c49ded227fdd\"}, {\"boxpoints\": \"all\", \"jitter\": 0.4, \"name\": \"Team 4\", \"pointpos\": 0, \"text\": [\"Week 3\", \"Week 5\", \"Week 7\", \"Week 8\", \"Week 10\", \"Week 12\", \"Week 13\", \"Week 1\", \"Week 2\", \"Week 4\", \"Week 6\", \"Week 9\", \"Week 11\"], \"y\": [121.2, 109.5, 86.0, 149.5, 111.9, 126.5, 103.8, 101.0, 121.4, 121.9, 141.8, 127.3, 109.8], \"type\": \"box\", \"uid\": \"13298562-25d2-11e9-8539-c49ded227fdd\"}, {\"boxpoints\": \"all\", \"jitter\": 0.4, \"name\": \"Team 6\", \"pointpos\": 0, \"text\": [\"Week 1\", \"Week 3\", \"Week 6\", \"Week 8\", \"Week 11\", \"Week 13\", \"Week 2\", \"Week 4\", \"Week 5\", \"Week 7\", \"Week 9\", \"Week 10\", \"Week 12\"], \"y\": [112.3, 127.3, 112.4, 138.7, 115.5, 117.2, 135.7, 128.8, 127.9, 134.6, 135.8, 90.9, 102.8], \"type\": \"box\", \"uid\": \"13298563-25d2-11e9-bb23-c49ded227fdd\"}, {\"boxpoints\": \"all\", \"jitter\": 0.4, \"name\": \"Team 7\", \"pointpos\": 0, \"text\": [\"Week 1\", \"Week 3\", \"Week 5\", \"Week 6\", \"Week 8\", \"Week 10\", \"Week 11\", \"Week 13\", \"Week 2\", \"Week 4\", \"Week 7\", \"Week 9\", \"Week 12\"], \"y\": [164.9, 135.2, 147.6, 138.0, 123.5, 127.8, 106.9, 104.3, 125.7, 67.9, 111.2, 117.8, 118.4], \"type\": \"box\", \"uid\": \"13298564-25d2-11e9-bbbe-c49ded227fdd\"}, {\"boxpoints\": \"all\", \"jitter\": 0.4, \"name\": \"Team 8\", \"pointpos\": 0, \"text\": [\"Week 1\", \"Week 3\", \"Week 5\", \"Week 8\", \"Week 10\", \"Week 13\", \"Week 2\", \"Week 4\", \"Week 6\", \"Week 7\", \"Week 9\", \"Week 11\", \"Week 12\"], \"y\": [74.0, 95.4, 90.0, 136.3, 128.2, 125.6, 143.6, 155.2, 108.7, 151.1, 98.5, 154.9, 132.3], \"type\": \"box\", \"uid\": \"13298565-25d2-11e9-a983-c49ded227fdd\"}], {\"showlegend\": false, \"title\": \"2018 Regular Season Fantasy Scoring\", \"yaxis\": {\"nticks\": 10, \"range\": [50, 170], \"title\": \"Score\"}}, {\"showLink\": true, \"linkText\": \"Export to plot.ly\"})});</script>"
      ],
      "text/vnd.plotly.v1+html": [
       "<div id=\"0910067c-b011-42d3-a6b6-eec751c1c3cf\" style=\"height: 525px; width: 100%;\" class=\"plotly-graph-div\"></div><script type=\"text/javascript\">require([\"plotly\"], function(Plotly) { window.PLOTLYENV=window.PLOTLYENV || {};window.PLOTLYENV.BASE_URL=\"https://plot.ly\";Plotly.newPlot(\"0910067c-b011-42d3-a6b6-eec751c1c3cf\", [{\"boxpoints\": \"all\", \"jitter\": 0.4, \"name\": \"Team 3\", \"pointpos\": 0, \"text\": [\"Week 2\", \"Week 4\", \"Week 5\", \"Week 7\", \"Week 9\", \"Week 12\", \"Week 1\", \"Week 3\", \"Week 6\", \"Week 8\", \"Week 10\", \"Week 11\", \"Week 13\"], \"y\": [88.7, 103.7, 123.3, 96.1, 89.4, 73.9, 114.0, 98.3, 81.2, 99.1, 111.1, 72.0, 87.6], \"type\": \"box\", \"uid\": \"1329855a-25d2-11e9-b6f5-c49ded227fdd\"}, {\"boxpoints\": \"all\", \"jitter\": 0.4, \"name\": \"Team 9\", \"pointpos\": 0, \"text\": [\"Week 1\", \"Week 2\", \"Week 4\", \"Week 6\", \"Week 7\", \"Week 9\", \"Week 11\", \"Week 3\", \"Week 5\", \"Week 8\", \"Week 10\", \"Week 12\", \"Week 13\"], \"y\": [76.7, 99.0, 72.3, 87.0, 88.7, 75.5, 118.6, 85.9, 110.2, 133.4, 112.3, 87.6, 105.4], \"type\": \"box\", \"uid\": \"1329855b-25d2-11e9-9a31-c49ded227fdd\"}, {\"boxpoints\": \"all\", \"jitter\": 0.4, \"name\": \"Team 1\", \"pointpos\": 0, \"text\": [\"Week 1\", \"Week 3\", \"Week 4\", \"Week 6\", \"Week 8\", \"Week 9\", \"Week 11\", \"Week 13\", \"Week 2\", \"Week 5\", \"Week 7\", \"Week 10\", \"Week 12\"], \"y\": [91.6, 86.0, 85.8, 99.3, 118.4, 90.1, 106.0, 86.2, 116.0, 104.5, 97.1, 104.1, 117.2], \"type\": \"box\", \"uid\": \"1329855c-25d2-11e9-812e-c49ded227fdd\"}, {\"boxpoints\": \"all\", \"jitter\": 0.4, \"name\": \"Team 10\", \"pointpos\": 0, \"text\": [\"Week 2\", \"Week 3\", \"Week 5\", \"Week 7\", \"Week 10\", \"Week 12\", \"Week 1\", \"Week 4\", \"Week 6\", \"Week 8\", \"Week 9\", \"Week 11\", \"Week 13\"], \"y\": [106.3, 114.6, 88.6, 123.9, 146.4, 114.4, 94.2, 102.5, 112.4, 61.2, 110.5, 84.6, 71.8], \"type\": \"box\", \"uid\": \"1329855d-25d2-11e9-8d07-c49ded227fdd\"}, {\"boxpoints\": \"all\", \"jitter\": 0.4, \"name\": \"Team 2\", \"pointpos\": 0, \"text\": [\"Week 2\", \"Week 5\", \"Week 7\", \"Week 9\", \"Week 10\", \"Week 12\", \"Week 1\", \"Week 3\", \"Week 4\", \"Week 6\", \"Week 8\", \"Week 11\", \"Week 13\"], \"y\": [98.4, 97.4, 85.2, 122.7, 92.5, 124.0, 147.9, 74.1, 134.1, 112.4, 60.0, 80.6, 109.5], \"type\": \"box\", \"uid\": \"1329855e-25d2-11e9-9159-c49ded227fdd\"}, {\"boxpoints\": \"all\", \"jitter\": 0.4, \"name\": \"Team 11\", \"pointpos\": 0, \"text\": [\"Week 2\", \"Week 4\", \"Week 7\", \"Week 9\", \"Week 11\", \"Week 12\", \"Week 1\", \"Week 3\", \"Week 5\", \"Week 6\", \"Week 8\", \"Week 10\", \"Week 13\"], \"y\": [105.9, 95.1, 126.6, 90.9, 104.4, 135.0, 86.0, 92.7, 94.9, 116.9, 96.8, 117.2, 97.1], \"type\": \"box\", \"uid\": \"1329855f-25d2-11e9-afaa-c49ded227fdd\"}, {\"boxpoints\": \"all\", \"jitter\": 0.4, \"name\": \"Team 12\", \"pointpos\": 0, \"text\": [\"Week 2\", \"Week 4\", \"Week 6\", \"Week 8\", \"Week 10\", \"Week 12\", \"Week 1\", \"Week 3\", \"Week 5\", \"Week 7\", \"Week 9\", \"Week 11\", \"Week 13\"], \"y\": [107.0, 129.1, 80.8, 120.0, 113.7, 133.3, 110.4, 112.5, 102.1, 94.5, 106.1, 125.2, 88.7], \"type\": \"box\", \"uid\": \"13298560-25d2-11e9-90c5-c49ded227fdd\"}, {\"boxpoints\": \"all\", \"jitter\": 0.4, \"name\": \"Team 5\", \"pointpos\": 0, \"text\": [\"Week 1\", \"Week 4\", \"Week 6\", \"Week 9\", \"Week 11\", \"Week 13\", \"Week 2\", \"Week 3\", \"Week 5\", \"Week 7\", \"Week 8\", \"Week 10\", \"Week 12\"], \"y\": [122.3, 169.3, 128.8, 114.9, 111.9, 92.1, 109.4, 142.1, 86.9, 121.5, 103.6, 105.1, 112.4], \"type\": \"box\", \"uid\": \"13298561-25d2-11e9-8cd9-c49ded227fdd\"}, {\"boxpoints\": \"all\", \"jitter\": 0.4, \"name\": \"Team 4\", \"pointpos\": 0, \"text\": [\"Week 3\", \"Week 5\", \"Week 7\", \"Week 8\", \"Week 10\", \"Week 12\", \"Week 13\", \"Week 1\", \"Week 2\", \"Week 4\", \"Week 6\", \"Week 9\", \"Week 11\"], \"y\": [121.2, 109.5, 86.0, 149.5, 111.9, 126.5, 103.8, 101.0, 121.4, 121.9, 141.8, 127.3, 109.8], \"type\": \"box\", \"uid\": \"13298562-25d2-11e9-8539-c49ded227fdd\"}, {\"boxpoints\": \"all\", \"jitter\": 0.4, \"name\": \"Team 6\", \"pointpos\": 0, \"text\": [\"Week 1\", \"Week 3\", \"Week 6\", \"Week 8\", \"Week 11\", \"Week 13\", \"Week 2\", \"Week 4\", \"Week 5\", \"Week 7\", \"Week 9\", \"Week 10\", \"Week 12\"], \"y\": [112.3, 127.3, 112.4, 138.7, 115.5, 117.2, 135.7, 128.8, 127.9, 134.6, 135.8, 90.9, 102.8], \"type\": \"box\", \"uid\": \"13298563-25d2-11e9-bb23-c49ded227fdd\"}, {\"boxpoints\": \"all\", \"jitter\": 0.4, \"name\": \"Team 7\", \"pointpos\": 0, \"text\": [\"Week 1\", \"Week 3\", \"Week 5\", \"Week 6\", \"Week 8\", \"Week 10\", \"Week 11\", \"Week 13\", \"Week 2\", \"Week 4\", \"Week 7\", \"Week 9\", \"Week 12\"], \"y\": [164.9, 135.2, 147.6, 138.0, 123.5, 127.8, 106.9, 104.3, 125.7, 67.9, 111.2, 117.8, 118.4], \"type\": \"box\", \"uid\": \"13298564-25d2-11e9-bbbe-c49ded227fdd\"}, {\"boxpoints\": \"all\", \"jitter\": 0.4, \"name\": \"Team 8\", \"pointpos\": 0, \"text\": [\"Week 1\", \"Week 3\", \"Week 5\", \"Week 8\", \"Week 10\", \"Week 13\", \"Week 2\", \"Week 4\", \"Week 6\", \"Week 7\", \"Week 9\", \"Week 11\", \"Week 12\"], \"y\": [74.0, 95.4, 90.0, 136.3, 128.2, 125.6, 143.6, 155.2, 108.7, 151.1, 98.5, 154.9, 132.3], \"type\": \"box\", \"uid\": \"13298565-25d2-11e9-a983-c49ded227fdd\"}], {\"showlegend\": false, \"title\": \"2018 Regular Season Fantasy Scoring\", \"yaxis\": {\"nticks\": 10, \"range\": [50, 170], \"title\": \"Score\"}}, {\"showLink\": true, \"linkText\": \"Export to plot.ly\"})});</script>"
      ]
     },
     "metadata": {},
     "output_type": "display_data"
    }
   ],
   "source": [
    "# Reorder teams by mean so that they're plotted nicely\n",
    "teamorder = np.array(seasonscores.groupby('Team')['Score'].mean().sort_values().index)\n",
    "\n",
    "# Plot season scores\n",
    "data = []\n",
    "for team in teamorder:\n",
    "    # 'z' is a team specific dataframe\n",
    "    z = seasonscores[seasonscores['Team'] == team]\n",
    "    trace = go.Box(\n",
    "        y = z['Score'],\n",
    "        name = team,\n",
    "        text = 'Week ' + z['Week'].astype(str),\n",
    "        boxpoints = 'all',\n",
    "        jitter = 0.4,\n",
    "        pointpos = 0)\n",
    "    data.append(trace)\n",
    "                   \n",
    "layout = go.Layout(title = '2018 Regular Season Fantasy Scoring',\n",
    "                   showlegend = False,\n",
    "                   yaxis = dict(title = 'Score', range = [50,170], nticks = 10))\n",
    "            \n",
    "fig = {'data':data,'layout':layout}\n",
    "iplot(fig)"
   ]
  },
  {
   "cell_type": "markdown",
   "metadata": {},
   "source": [
    "This chart was created with plotly, where each trace was created by looping through the league's teams. Each trace was populated with scores taken from the `seasonscores` dataframe for each week.\n",
    "\n",
    "Scores for the season were all over the map, ranging from Team 2 putting up a measly 60 points in week 8, to Team 5 posting 169 points in Week 4. There doesn't seem to be a relationship between variance of scores and magnitude of scores. In other words, a team's scoring consistency is not correlated to the team's success in term of how many points they score on average.\n",
    "\n",
    "My team (Team 4) ranks 4th in average score. One thing I remember about my fantasy season that's easily seen in this boxplot is my three weeks in a row of scoring 121 points. Sharing this chart with leaguemates would be a helpful way for them to understand their team's scoring consistency and how they stack up amongst the competition.\n",
    "\n",
    "Another tool that could be helpful for league managers would be looking at positional score relative to each other. This would allow managers to see positional strengths and weaknesses and average score differences between wins and losses."
   ]
  },
  {
   "cell_type": "markdown",
   "metadata": {},
   "source": [
    "## Multivariate Exploration\n",
    "\n",
    "For comparing positional scoring, it would be easier to plot the data if the `boxscores` dataframe is manipulated into such a way that each position is a column showing average score for each matchup. "
   ]
  },
  {
   "cell_type": "code",
   "execution_count": 10,
   "metadata": {},
   "outputs": [],
   "source": [
    "# Filter out bench players ('slotId' = 20):\n",
    "positional_stats = (boxscores[(boxscores['slotId'] != 20)]\n",
    " .filter(items=['teamName', 'matchupPeriodId', 'position', 'appliedStatTotal', 'wonMatchup'], axis=1)\n",
    " # group by team, matchup, and postion and take the mean positional score using .agg:\n",
    " .groupby(['teamName', 'matchupPeriodId', 'position'])\n",
    " .agg({'appliedStatTotal': 'mean'})\n",
    " # Pivot table on 'position' to create new columns:\n",
    " .unstack('position')\n",
    " .reset_index())\n",
    "# Create 'Won' column by taking the min of 'wonMatchup':\n",
    "positional_stats['Won'] = boxscores.groupby(['teamName', 'matchupPeriodId']).agg({'wonMatchup': 'min'}).reset_index(drop=True)\n",
    "# Rearrange columns:\n",
    "positional_stats.columns = ['Team', 'Matchup', 'D/ST', 'QB', 'RB', 'TE', 'WR', 'Won']\n",
    "# Round floats:\n",
    "positional_stats = positional_stats.round(2)"
   ]
  },
  {
   "cell_type": "code",
   "execution_count": 11,
   "metadata": {},
   "outputs": [
    {
     "data": {
      "text/html": [
       "<div>\n",
       "<style scoped>\n",
       "    .dataframe tbody tr th:only-of-type {\n",
       "        vertical-align: middle;\n",
       "    }\n",
       "\n",
       "    .dataframe tbody tr th {\n",
       "        vertical-align: top;\n",
       "    }\n",
       "\n",
       "    .dataframe thead th {\n",
       "        text-align: right;\n",
       "    }\n",
       "</style>\n",
       "<table border=\"1\" class=\"dataframe\">\n",
       "  <thead>\n",
       "    <tr style=\"text-align: right;\">\n",
       "      <th></th>\n",
       "      <th>Team</th>\n",
       "      <th>Matchup</th>\n",
       "      <th>D/ST</th>\n",
       "      <th>QB</th>\n",
       "      <th>RB</th>\n",
       "      <th>TE</th>\n",
       "      <th>WR</th>\n",
       "      <th>Won</th>\n",
       "    </tr>\n",
       "  </thead>\n",
       "  <tbody>\n",
       "    <tr>\n",
       "      <th>101</th>\n",
       "      <td>Team 5</td>\n",
       "      <td>11</td>\n",
       "      <td>10.0</td>\n",
       "      <td>24.48</td>\n",
       "      <td>10.9</td>\n",
       "      <td>7.9</td>\n",
       "      <td>11.92</td>\n",
       "      <td>True</td>\n",
       "    </tr>\n",
       "  </tbody>\n",
       "</table>\n",
       "</div>"
      ],
      "text/plain": [
       "       Team  Matchup  D/ST     QB    RB   TE     WR   Won\n",
       "101  Team 5       11  10.0  24.48  10.9  7.9  11.92  True"
      ]
     },
     "execution_count": 11,
     "metadata": {},
     "output_type": "execute_result"
    }
   ],
   "source": [
    "positional_stats.sample()"
   ]
  },
  {
   "cell_type": "markdown",
   "metadata": {},
   "source": [
    "This will be much easier to work with. A radar chart would be a cool way to visualize the relationship between average positional scoring. I will create one for my team in weeks where I won my matchup."
   ]
  },
  {
   "cell_type": "code",
   "execution_count": 12,
   "metadata": {},
   "outputs": [],
   "source": [
    "selected_team = 'Team 4'"
   ]
  },
  {
   "cell_type": "code",
   "execution_count": 13,
   "metadata": {},
   "outputs": [
    {
     "data": {
      "application/vnd.plotly.v1+json": {
       "data": [
        {
         "fill": "toself",
         "line": {
          "color": "rgb(131, 90, 241)",
          "width": 0.5
         },
         "marker": {
          "size": 1
         },
         "mode": "lines+markers",
         "name": "Week 2",
         "opacity": 0.4,
         "r": [
          11,
          16.04,
          11.93,
          18.47,
          3.2,
          11
         ],
         "theta": [
          "D/ST",
          "QB",
          "RB",
          "WR",
          "TE",
          "D/ST"
         ],
         "type": "scatterpolar",
         "uid": "13780000-25d2-11e9-9935-c49ded227fdd"
        },
        {
         "fill": "toself",
         "line": {
          "color": "rgb(131, 90, 241)",
          "width": 0.5
         },
         "marker": {
          "size": 1
         },
         "mode": "lines+markers",
         "name": "Week 3",
         "opacity": 0.4,
         "r": [
          11,
          19.9,
          14,
          11.97,
          12.4,
          11
         ],
         "theta": [
          "D/ST",
          "QB",
          "RB",
          "WR",
          "TE",
          "D/ST"
         ],
         "type": "scatterpolar",
         "uid": "13780001-25d2-11e9-860a-c49ded227fdd"
        },
        {
         "fill": "toself",
         "line": {
          "color": "rgb(131, 90, 241)",
          "width": 0.5
         },
         "marker": {
          "size": 1
         },
         "mode": "lines+markers",
         "name": "Week 4",
         "opacity": 0.4,
         "r": [
          4,
          29.26,
          6.97,
          15.4,
          21.5,
          4
         ],
         "theta": [
          "D/ST",
          "QB",
          "RB",
          "WR",
          "TE",
          "D/ST"
         ],
         "type": "scatterpolar",
         "uid": "13780002-25d2-11e9-9ef8-c49ded227fdd"
        },
        {
         "fill": "toself",
         "line": {
          "color": "rgb(131, 90, 241)",
          "width": 0.5
         },
         "marker": {
          "size": 1
         },
         "mode": "lines+markers",
         "name": "Week 5",
         "opacity": 0.4,
         "r": [
          -2,
          14.4,
          19.47,
          9.3,
          10.8,
          -2
         ],
         "theta": [
          "D/ST",
          "QB",
          "RB",
          "WR",
          "TE",
          "D/ST"
         ],
         "type": "scatterpolar",
         "uid": "13780003-25d2-11e9-92d5-c49ded227fdd"
        },
        {
         "fill": "toself",
         "line": {
          "color": "rgb(131, 90, 241)",
          "width": 0.5
         },
         "marker": {
          "size": 1
         },
         "mode": "lines+markers",
         "name": "Week 6",
         "opacity": 0.4,
         "r": [
          10,
          28.4,
          21.65,
          13.77,
          5,
          10
         ],
         "theta": [
          "D/ST",
          "QB",
          "RB",
          "WR",
          "TE",
          "D/ST"
         ],
         "type": "scatterpolar",
         "uid": "13780004-25d2-11e9-83fd-c49ded227fdd"
        },
        {
         "fill": "toself",
         "line": {
          "color": "rgb(131, 90, 241)",
          "width": 0.5
         },
         "marker": {
          "size": 1
         },
         "mode": "lines+markers",
         "name": "Week 8",
         "opacity": 0.4,
         "r": [
          8,
          15.94,
          31.5,
          13.6,
          8.2,
          8
         ],
         "theta": [
          "D/ST",
          "QB",
          "RB",
          "WR",
          "TE",
          "D/ST"
         ],
         "type": "scatterpolar",
         "uid": "13780005-25d2-11e9-bf0f-c49ded227fdd"
        },
        {
         "fill": "toself",
         "line": {
          "color": "rgb(131, 90, 241)",
          "width": 0.5
         },
         "marker": {
          "size": 1
         },
         "mode": "lines+markers",
         "name": "Week 9",
         "opacity": 0.4,
         "r": [
          12,
          19.16,
          14.57,
          11.2,
          18.8,
          12
         ],
         "theta": [
          "D/ST",
          "QB",
          "RB",
          "WR",
          "TE",
          "D/ST"
         ],
         "type": "scatterpolar",
         "uid": "13780006-25d2-11e9-a191-c49ded227fdd"
        },
        {
         "fill": "toself",
         "line": {
          "color": "rgb(131, 90, 241)",
          "width": 0.5
         },
         "marker": {
          "size": 1
         },
         "mode": "lines+markers",
         "name": "Week 11",
         "opacity": 0.4,
         "r": [
          0,
          21.58,
          13.9,
          14.17,
          4,
          0
         ],
         "theta": [
          "D/ST",
          "QB",
          "RB",
          "WR",
          "TE",
          "D/ST"
         ],
         "type": "scatterpolar",
         "uid": "13780007-25d2-11e9-abe0-c49ded227fdd"
        },
        {
         "fill": "toself",
         "line": {
          "color": "rgb(131, 90, 241)",
          "width": 0.5
         },
         "marker": {
          "size": 1
         },
         "mode": "lines+markers",
         "name": "Week 12",
         "opacity": 0.4,
         "r": [
          10,
          20.68,
          17.6,
          11.4,
          8.8,
          10
         ],
         "theta": [
          "D/ST",
          "QB",
          "RB",
          "WR",
          "TE",
          "D/ST"
         ],
         "type": "scatterpolar",
         "uid": "13780008-25d2-11e9-9b64-c49ded227fdd"
        },
        {
         "fill": "toself",
         "line": {
          "color": "rgb(131, 90, 241)",
          "width": 0.5
         },
         "marker": {
          "size": 1
         },
         "mode": "lines+markers",
         "name": "Week 13",
         "opacity": 0.4,
         "r": [
          14,
          15.32,
          15.7,
          8.28,
          10,
          14
         ],
         "theta": [
          "D/ST",
          "QB",
          "RB",
          "WR",
          "TE",
          "D/ST"
         ],
         "type": "scatterpolar",
         "uid": "13780009-25d2-11e9-9f17-c49ded227fdd"
        },
        {
         "line": {
          "color": "black",
          "width": 2
         },
         "name": "Season avg.",
         "opacity": 1,
         "r": [
          7.8,
          20.068,
          16.729,
          12.756,
          10.27,
          7.8
         ],
         "theta": [
          "D/ST",
          "QB",
          "RB",
          "WR",
          "TE",
          "D/ST"
         ],
         "type": "scatterpolar",
         "uid": "1378000a-25d2-11e9-9fe4-c49ded227fdd"
        }
       ],
       "layout": {
        "hovermode": "closest",
        "polar": {
         "radialaxis": {
          "range": [
           0,
           31.5
          ],
          "visible": true
         }
        },
        "showlegend": false,
        "title": "Average Positional Scoring in Wins for Team 4"
       }
      },
      "text/html": [
       "<div id=\"709769bd-fdda-4dab-88f0-9099f2daa5dc\" style=\"height: 525px; width: 100%;\" class=\"plotly-graph-div\"></div><script type=\"text/javascript\">require([\"plotly\"], function(Plotly) { window.PLOTLYENV=window.PLOTLYENV || {};window.PLOTLYENV.BASE_URL=\"https://plot.ly\";Plotly.newPlot(\"709769bd-fdda-4dab-88f0-9099f2daa5dc\", [{\"fill\": \"toself\", \"line\": {\"color\": \"rgb(131, 90, 241)\", \"width\": 0.5}, \"marker\": {\"size\": 1}, \"mode\": \"lines+markers\", \"name\": \"Week 2\", \"opacity\": 0.4, \"r\": [11.0, 16.04, 11.93, 18.47, 3.2, 11.0], \"theta\": [\"D/ST\", \"QB\", \"RB\", \"WR\", \"TE\", \"D/ST\"], \"type\": \"scatterpolar\", \"uid\": \"13846252-25d2-11e9-842d-c49ded227fdd\"}, {\"fill\": \"toself\", \"line\": {\"color\": \"rgb(131, 90, 241)\", \"width\": 0.5}, \"marker\": {\"size\": 1}, \"mode\": \"lines+markers\", \"name\": \"Week 3\", \"opacity\": 0.4, \"r\": [11.0, 19.9, 14.0, 11.97, 12.4, 11.0], \"theta\": [\"D/ST\", \"QB\", \"RB\", \"WR\", \"TE\", \"D/ST\"], \"type\": \"scatterpolar\", \"uid\": \"13846253-25d2-11e9-8d3a-c49ded227fdd\"}, {\"fill\": \"toself\", \"line\": {\"color\": \"rgb(131, 90, 241)\", \"width\": 0.5}, \"marker\": {\"size\": 1}, \"mode\": \"lines+markers\", \"name\": \"Week 4\", \"opacity\": 0.4, \"r\": [4.0, 29.26, 6.97, 15.4, 21.5, 4.0], \"theta\": [\"D/ST\", \"QB\", \"RB\", \"WR\", \"TE\", \"D/ST\"], \"type\": \"scatterpolar\", \"uid\": \"13846254-25d2-11e9-bda6-c49ded227fdd\"}, {\"fill\": \"toself\", \"line\": {\"color\": \"rgb(131, 90, 241)\", \"width\": 0.5}, \"marker\": {\"size\": 1}, \"mode\": \"lines+markers\", \"name\": \"Week 5\", \"opacity\": 0.4, \"r\": [-2.0, 14.4, 19.47, 9.3, 10.8, -2.0], \"theta\": [\"D/ST\", \"QB\", \"RB\", \"WR\", \"TE\", \"D/ST\"], \"type\": \"scatterpolar\", \"uid\": \"13846255-25d2-11e9-bc4d-c49ded227fdd\"}, {\"fill\": \"toself\", \"line\": {\"color\": \"rgb(131, 90, 241)\", \"width\": 0.5}, \"marker\": {\"size\": 1}, \"mode\": \"lines+markers\", \"name\": \"Week 6\", \"opacity\": 0.4, \"r\": [10.0, 28.4, 21.65, 13.77, 5.0, 10.0], \"theta\": [\"D/ST\", \"QB\", \"RB\", \"WR\", \"TE\", \"D/ST\"], \"type\": \"scatterpolar\", \"uid\": \"13846256-25d2-11e9-97c5-c49ded227fdd\"}, {\"fill\": \"toself\", \"line\": {\"color\": \"rgb(131, 90, 241)\", \"width\": 0.5}, \"marker\": {\"size\": 1}, \"mode\": \"lines+markers\", \"name\": \"Week 8\", \"opacity\": 0.4, \"r\": [8.0, 15.94, 31.5, 13.6, 8.2, 8.0], \"theta\": [\"D/ST\", \"QB\", \"RB\", \"WR\", \"TE\", \"D/ST\"], \"type\": \"scatterpolar\", \"uid\": \"13846257-25d2-11e9-bbbc-c49ded227fdd\"}, {\"fill\": \"toself\", \"line\": {\"color\": \"rgb(131, 90, 241)\", \"width\": 0.5}, \"marker\": {\"size\": 1}, \"mode\": \"lines+markers\", \"name\": \"Week 9\", \"opacity\": 0.4, \"r\": [12.0, 19.16, 14.57, 11.2, 18.8, 12.0], \"theta\": [\"D/ST\", \"QB\", \"RB\", \"WR\", \"TE\", \"D/ST\"], \"type\": \"scatterpolar\", \"uid\": \"13846258-25d2-11e9-9a72-c49ded227fdd\"}, {\"fill\": \"toself\", \"line\": {\"color\": \"rgb(131, 90, 241)\", \"width\": 0.5}, \"marker\": {\"size\": 1}, \"mode\": \"lines+markers\", \"name\": \"Week 11\", \"opacity\": 0.4, \"r\": [0.0, 21.58, 13.9, 14.17, 4.0, 0.0], \"theta\": [\"D/ST\", \"QB\", \"RB\", \"WR\", \"TE\", \"D/ST\"], \"type\": \"scatterpolar\", \"uid\": \"13846259-25d2-11e9-a74c-c49ded227fdd\"}, {\"fill\": \"toself\", \"line\": {\"color\": \"rgb(131, 90, 241)\", \"width\": 0.5}, \"marker\": {\"size\": 1}, \"mode\": \"lines+markers\", \"name\": \"Week 12\", \"opacity\": 0.4, \"r\": [10.0, 20.68, 17.6, 11.4, 8.8, 10.0], \"theta\": [\"D/ST\", \"QB\", \"RB\", \"WR\", \"TE\", \"D/ST\"], \"type\": \"scatterpolar\", \"uid\": \"1384625a-25d2-11e9-9529-c49ded227fdd\"}, {\"fill\": \"toself\", \"line\": {\"color\": \"rgb(131, 90, 241)\", \"width\": 0.5}, \"marker\": {\"size\": 1}, \"mode\": \"lines+markers\", \"name\": \"Week 13\", \"opacity\": 0.4, \"r\": [14.0, 15.32, 15.7, 8.28, 10.0, 14.0], \"theta\": [\"D/ST\", \"QB\", \"RB\", \"WR\", \"TE\", \"D/ST\"], \"type\": \"scatterpolar\", \"uid\": \"1384625b-25d2-11e9-97ce-c49ded227fdd\"}, {\"line\": {\"color\": \"black\", \"width\": 2}, \"name\": \"Season avg.\", \"opacity\": 1, \"r\": [7.8, 20.068, 16.729, 12.756, 10.27, 7.8], \"theta\": [\"D/ST\", \"QB\", \"RB\", \"WR\", \"TE\", \"D/ST\"], \"type\": \"scatterpolar\", \"uid\": \"1384625c-25d2-11e9-9d83-c49ded227fdd\"}], {\"hovermode\": \"closest\", \"polar\": {\"radialaxis\": {\"range\": [0, 31.5], \"visible\": true}}, \"showlegend\": false, \"title\": \"Average Positional Scoring in Wins for Team 4\"}, {\"showLink\": true, \"linkText\": \"Export to plot.ly\"})});</script>"
      ],
      "text/vnd.plotly.v1+html": [
       "<div id=\"709769bd-fdda-4dab-88f0-9099f2daa5dc\" style=\"height: 525px; width: 100%;\" class=\"plotly-graph-div\"></div><script type=\"text/javascript\">require([\"plotly\"], function(Plotly) { window.PLOTLYENV=window.PLOTLYENV || {};window.PLOTLYENV.BASE_URL=\"https://plot.ly\";Plotly.newPlot(\"709769bd-fdda-4dab-88f0-9099f2daa5dc\", [{\"fill\": \"toself\", \"line\": {\"color\": \"rgb(131, 90, 241)\", \"width\": 0.5}, \"marker\": {\"size\": 1}, \"mode\": \"lines+markers\", \"name\": \"Week 2\", \"opacity\": 0.4, \"r\": [11.0, 16.04, 11.93, 18.47, 3.2, 11.0], \"theta\": [\"D/ST\", \"QB\", \"RB\", \"WR\", \"TE\", \"D/ST\"], \"type\": \"scatterpolar\", \"uid\": \"13846252-25d2-11e9-842d-c49ded227fdd\"}, {\"fill\": \"toself\", \"line\": {\"color\": \"rgb(131, 90, 241)\", \"width\": 0.5}, \"marker\": {\"size\": 1}, \"mode\": \"lines+markers\", \"name\": \"Week 3\", \"opacity\": 0.4, \"r\": [11.0, 19.9, 14.0, 11.97, 12.4, 11.0], \"theta\": [\"D/ST\", \"QB\", \"RB\", \"WR\", \"TE\", \"D/ST\"], \"type\": \"scatterpolar\", \"uid\": \"13846253-25d2-11e9-8d3a-c49ded227fdd\"}, {\"fill\": \"toself\", \"line\": {\"color\": \"rgb(131, 90, 241)\", \"width\": 0.5}, \"marker\": {\"size\": 1}, \"mode\": \"lines+markers\", \"name\": \"Week 4\", \"opacity\": 0.4, \"r\": [4.0, 29.26, 6.97, 15.4, 21.5, 4.0], \"theta\": [\"D/ST\", \"QB\", \"RB\", \"WR\", \"TE\", \"D/ST\"], \"type\": \"scatterpolar\", \"uid\": \"13846254-25d2-11e9-bda6-c49ded227fdd\"}, {\"fill\": \"toself\", \"line\": {\"color\": \"rgb(131, 90, 241)\", \"width\": 0.5}, \"marker\": {\"size\": 1}, \"mode\": \"lines+markers\", \"name\": \"Week 5\", \"opacity\": 0.4, \"r\": [-2.0, 14.4, 19.47, 9.3, 10.8, -2.0], \"theta\": [\"D/ST\", \"QB\", \"RB\", \"WR\", \"TE\", \"D/ST\"], \"type\": \"scatterpolar\", \"uid\": \"13846255-25d2-11e9-bc4d-c49ded227fdd\"}, {\"fill\": \"toself\", \"line\": {\"color\": \"rgb(131, 90, 241)\", \"width\": 0.5}, \"marker\": {\"size\": 1}, \"mode\": \"lines+markers\", \"name\": \"Week 6\", \"opacity\": 0.4, \"r\": [10.0, 28.4, 21.65, 13.77, 5.0, 10.0], \"theta\": [\"D/ST\", \"QB\", \"RB\", \"WR\", \"TE\", \"D/ST\"], \"type\": \"scatterpolar\", \"uid\": \"13846256-25d2-11e9-97c5-c49ded227fdd\"}, {\"fill\": \"toself\", \"line\": {\"color\": \"rgb(131, 90, 241)\", \"width\": 0.5}, \"marker\": {\"size\": 1}, \"mode\": \"lines+markers\", \"name\": \"Week 8\", \"opacity\": 0.4, \"r\": [8.0, 15.94, 31.5, 13.6, 8.2, 8.0], \"theta\": [\"D/ST\", \"QB\", \"RB\", \"WR\", \"TE\", \"D/ST\"], \"type\": \"scatterpolar\", \"uid\": \"13846257-25d2-11e9-bbbc-c49ded227fdd\"}, {\"fill\": \"toself\", \"line\": {\"color\": \"rgb(131, 90, 241)\", \"width\": 0.5}, \"marker\": {\"size\": 1}, \"mode\": \"lines+markers\", \"name\": \"Week 9\", \"opacity\": 0.4, \"r\": [12.0, 19.16, 14.57, 11.2, 18.8, 12.0], \"theta\": [\"D/ST\", \"QB\", \"RB\", \"WR\", \"TE\", \"D/ST\"], \"type\": \"scatterpolar\", \"uid\": \"13846258-25d2-11e9-9a72-c49ded227fdd\"}, {\"fill\": \"toself\", \"line\": {\"color\": \"rgb(131, 90, 241)\", \"width\": 0.5}, \"marker\": {\"size\": 1}, \"mode\": \"lines+markers\", \"name\": \"Week 11\", \"opacity\": 0.4, \"r\": [0.0, 21.58, 13.9, 14.17, 4.0, 0.0], \"theta\": [\"D/ST\", \"QB\", \"RB\", \"WR\", \"TE\", \"D/ST\"], \"type\": \"scatterpolar\", \"uid\": \"13846259-25d2-11e9-a74c-c49ded227fdd\"}, {\"fill\": \"toself\", \"line\": {\"color\": \"rgb(131, 90, 241)\", \"width\": 0.5}, \"marker\": {\"size\": 1}, \"mode\": \"lines+markers\", \"name\": \"Week 12\", \"opacity\": 0.4, \"r\": [10.0, 20.68, 17.6, 11.4, 8.8, 10.0], \"theta\": [\"D/ST\", \"QB\", \"RB\", \"WR\", \"TE\", \"D/ST\"], \"type\": \"scatterpolar\", \"uid\": \"1384625a-25d2-11e9-9529-c49ded227fdd\"}, {\"fill\": \"toself\", \"line\": {\"color\": \"rgb(131, 90, 241)\", \"width\": 0.5}, \"marker\": {\"size\": 1}, \"mode\": \"lines+markers\", \"name\": \"Week 13\", \"opacity\": 0.4, \"r\": [14.0, 15.32, 15.7, 8.28, 10.0, 14.0], \"theta\": [\"D/ST\", \"QB\", \"RB\", \"WR\", \"TE\", \"D/ST\"], \"type\": \"scatterpolar\", \"uid\": \"1384625b-25d2-11e9-97ce-c49ded227fdd\"}, {\"line\": {\"color\": \"black\", \"width\": 2}, \"name\": \"Season avg.\", \"opacity\": 1, \"r\": [7.8, 20.068, 16.729, 12.756, 10.27, 7.8], \"theta\": [\"D/ST\", \"QB\", \"RB\", \"WR\", \"TE\", \"D/ST\"], \"type\": \"scatterpolar\", \"uid\": \"1384625c-25d2-11e9-9d83-c49ded227fdd\"}], {\"hovermode\": \"closest\", \"polar\": {\"radialaxis\": {\"range\": [0, 31.5], \"visible\": true}}, \"showlegend\": false, \"title\": \"Average Positional Scoring in Wins for Team 4\"}, {\"showLink\": true, \"linkText\": \"Export to plot.ly\"})});</script>"
      ]
     },
     "metadata": {},
     "output_type": "display_data"
    }
   ],
   "source": [
    "# Box scores for selected team:\n",
    "df_team = positional_stats[positional_stats['Team'] == selected_team]\n",
    "# Box scores for selected team in wins:\n",
    "df_team_win = df_team[df_team['Won'] == True]\n",
    "# List of positions. 'D/ST' is listed twice to connect the radial trace:\n",
    "positions = ['D/ST', 'QB', 'RB', 'WR', 'TE', 'D/ST']\n",
    "# Loop through matchups:\n",
    "data_win = []\n",
    "for m in df_team_win['Matchup']:\n",
    "    trace1 = go.Scatterpolar(\n",
    "        # Loop through positions:\n",
    "        r = [df_team_win[df_team_win['Matchup'] == m][p].item() for p in positions],\n",
    "        theta = positions,\n",
    "        fill = 'toself',\n",
    "        opacity = 0.4,\n",
    "        mode = 'lines+markers',\n",
    "        line = dict(width = 0.5, color = 'rgb(131, 90, 241)'),\n",
    "        marker = dict(size = 1),\n",
    "        name = 'Week {}'.format(m))\n",
    "    data_win.append(trace1)\n",
    "\n",
    "# Create trace for average positional scores:\n",
    "trace2 = go.Scatterpolar(\n",
    "    r = [df_team_win[p].mean() for p in positions],\n",
    "    theta = positions,\n",
    "    name = 'Season avg.',\n",
    "    opacity = 1,\n",
    "    line = dict(width = 2,color = 'black'))\n",
    "data_win.append(trace2)\n",
    "\n",
    "layout = go.Layout(title = 'Average Positional Scoring in Wins for {}'.format(selected_team),\n",
    "                   hovermode = 'closest',\n",
    "                   polar = dict(radialaxis = dict(visible = True, range = [0,df_team[positions].max().max()])),\n",
    "                   showlegend = False)\n",
    "    \n",
    "fig = {'data':data_win,'layout':layout}\n",
    "iplot(fig)"
   ]
  },
  {
   "cell_type": "markdown",
   "metadata": {},
   "source": [
    "Each purple trace shows an individual week. The black line shows the average positional score in wins for my team. On average, in matchups that I won, my QB scored 20.1, RBs averaged 16.7, WRs averaged 12.8, TE scored 10.2, and D/ST scored 7.8.\n",
    "\n",
    "Let's see how this compares to a similar radial chart for losses."
   ]
  },
  {
   "cell_type": "code",
   "execution_count": 14,
   "metadata": {},
   "outputs": [
    {
     "data": {
      "application/vnd.plotly.v1+json": {
       "data": [
        {
         "fill": "toself",
         "line": {
          "color": "rgb(131, 90, 241)",
          "width": 0.5
         },
         "marker": {
          "size": 1
         },
         "mode": "lines+markers",
         "name": "Week 1",
         "opacity": 0.4,
         "r": [
          -3,
          24.94,
          8.87,
          13.67,
          11.5,
          -3
         ],
         "theta": [
          "D/ST",
          "QB",
          "RB",
          "WR",
          "TE",
          "D/ST"
         ],
         "type": "scatterpolar",
         "uid": "1394e0e2-25d2-11e9-bc1a-c49ded227fdd"
        },
        {
         "fill": "toself",
         "line": {
          "color": "rgb(131, 90, 241)",
          "width": 0.5
         },
         "marker": {
          "size": 1
         },
         "mode": "lines+markers",
         "name": "Week 7",
         "opacity": 0.4,
         "r": [
          3,
          19.26,
          6.45,
          8.12,
          18.3,
          3
         ],
         "theta": [
          "D/ST",
          "QB",
          "RB",
          "WR",
          "TE",
          "D/ST"
         ],
         "type": "scatterpolar",
         "uid": "1394e0e3-25d2-11e9-b76b-c49ded227fdd"
        },
        {
         "fill": "toself",
         "line": {
          "color": "rgb(131, 90, 241)",
          "width": 0.5
         },
         "marker": {
          "size": 1
         },
         "mode": "lines+markers",
         "name": "Week 10",
         "opacity": 0.4,
         "r": [
          10,
          18.06,
          16.23,
          7.43,
          12.8,
          10
         ],
         "theta": [
          "D/ST",
          "QB",
          "RB",
          "WR",
          "TE",
          "D/ST"
         ],
         "type": "scatterpolar",
         "uid": "1394e0e4-25d2-11e9-ab75-c49ded227fdd"
        },
        {
         "line": {
          "color": "black",
          "width": 2
         },
         "name": "Season avg.",
         "opacity": 1,
         "r": [
          3.3333333333333335,
          20.753333333333334,
          10.516666666666667,
          9.74,
          14.200000000000001,
          3.3333333333333335
         ],
         "theta": [
          "D/ST",
          "QB",
          "RB",
          "WR",
          "TE",
          "D/ST"
         ],
         "type": "scatterpolar",
         "uid": "1394e0e5-25d2-11e9-8382-c49ded227fdd"
        }
       ],
       "layout": {
        "hovermode": "closest",
        "polar": {
         "radialaxis": {
          "range": [
           0,
           31.5
          ],
          "visible": true
         }
        },
        "showlegend": false,
        "title": "Average Positional Scoring in Losses for Team 4"
       }
      },
      "text/html": [
       "<div id=\"f941e423-0d96-4497-8f42-bd9e073811ae\" style=\"height: 525px; width: 100%;\" class=\"plotly-graph-div\"></div><script type=\"text/javascript\">require([\"plotly\"], function(Plotly) { window.PLOTLYENV=window.PLOTLYENV || {};window.PLOTLYENV.BASE_URL=\"https://plot.ly\";Plotly.newPlot(\"f941e423-0d96-4497-8f42-bd9e073811ae\", [{\"fill\": \"toself\", \"line\": {\"color\": \"rgb(131, 90, 241)\", \"width\": 0.5}, \"marker\": {\"size\": 1}, \"mode\": \"lines+markers\", \"name\": \"Week 1\", \"opacity\": 0.4, \"r\": [-3.0, 24.94, 8.87, 13.67, 11.5, -3.0], \"theta\": [\"D/ST\", \"QB\", \"RB\", \"WR\", \"TE\", \"D/ST\"], \"type\": \"scatterpolar\", \"uid\": \"13994af4-25d2-11e9-8487-c49ded227fdd\"}, {\"fill\": \"toself\", \"line\": {\"color\": \"rgb(131, 90, 241)\", \"width\": 0.5}, \"marker\": {\"size\": 1}, \"mode\": \"lines+markers\", \"name\": \"Week 7\", \"opacity\": 0.4, \"r\": [3.0, 19.26, 6.45, 8.12, 18.3, 3.0], \"theta\": [\"D/ST\", \"QB\", \"RB\", \"WR\", \"TE\", \"D/ST\"], \"type\": \"scatterpolar\", \"uid\": \"13994af5-25d2-11e9-8a76-c49ded227fdd\"}, {\"fill\": \"toself\", \"line\": {\"color\": \"rgb(131, 90, 241)\", \"width\": 0.5}, \"marker\": {\"size\": 1}, \"mode\": \"lines+markers\", \"name\": \"Week 10\", \"opacity\": 0.4, \"r\": [10.0, 18.06, 16.23, 7.43, 12.8, 10.0], \"theta\": [\"D/ST\", \"QB\", \"RB\", \"WR\", \"TE\", \"D/ST\"], \"type\": \"scatterpolar\", \"uid\": \"13994af6-25d2-11e9-9c9b-c49ded227fdd\"}, {\"line\": {\"color\": \"black\", \"width\": 2}, \"name\": \"Season avg.\", \"opacity\": 1, \"r\": [3.3333333333333335, 20.753333333333334, 10.516666666666667, 9.74, 14.200000000000001, 3.3333333333333335], \"theta\": [\"D/ST\", \"QB\", \"RB\", \"WR\", \"TE\", \"D/ST\"], \"type\": \"scatterpolar\", \"uid\": \"13994af7-25d2-11e9-b352-c49ded227fdd\"}], {\"hovermode\": \"closest\", \"polar\": {\"radialaxis\": {\"range\": [0, 31.5], \"visible\": true}}, \"showlegend\": false, \"title\": \"Average Positional Scoring in Losses for Team 4\"}, {\"showLink\": true, \"linkText\": \"Export to plot.ly\"})});</script>"
      ],
      "text/vnd.plotly.v1+html": [
       "<div id=\"f941e423-0d96-4497-8f42-bd9e073811ae\" style=\"height: 525px; width: 100%;\" class=\"plotly-graph-div\"></div><script type=\"text/javascript\">require([\"plotly\"], function(Plotly) { window.PLOTLYENV=window.PLOTLYENV || {};window.PLOTLYENV.BASE_URL=\"https://plot.ly\";Plotly.newPlot(\"f941e423-0d96-4497-8f42-bd9e073811ae\", [{\"fill\": \"toself\", \"line\": {\"color\": \"rgb(131, 90, 241)\", \"width\": 0.5}, \"marker\": {\"size\": 1}, \"mode\": \"lines+markers\", \"name\": \"Week 1\", \"opacity\": 0.4, \"r\": [-3.0, 24.94, 8.87, 13.67, 11.5, -3.0], \"theta\": [\"D/ST\", \"QB\", \"RB\", \"WR\", \"TE\", \"D/ST\"], \"type\": \"scatterpolar\", \"uid\": \"13994af4-25d2-11e9-8487-c49ded227fdd\"}, {\"fill\": \"toself\", \"line\": {\"color\": \"rgb(131, 90, 241)\", \"width\": 0.5}, \"marker\": {\"size\": 1}, \"mode\": \"lines+markers\", \"name\": \"Week 7\", \"opacity\": 0.4, \"r\": [3.0, 19.26, 6.45, 8.12, 18.3, 3.0], \"theta\": [\"D/ST\", \"QB\", \"RB\", \"WR\", \"TE\", \"D/ST\"], \"type\": \"scatterpolar\", \"uid\": \"13994af5-25d2-11e9-8a76-c49ded227fdd\"}, {\"fill\": \"toself\", \"line\": {\"color\": \"rgb(131, 90, 241)\", \"width\": 0.5}, \"marker\": {\"size\": 1}, \"mode\": \"lines+markers\", \"name\": \"Week 10\", \"opacity\": 0.4, \"r\": [10.0, 18.06, 16.23, 7.43, 12.8, 10.0], \"theta\": [\"D/ST\", \"QB\", \"RB\", \"WR\", \"TE\", \"D/ST\"], \"type\": \"scatterpolar\", \"uid\": \"13994af6-25d2-11e9-9c9b-c49ded227fdd\"}, {\"line\": {\"color\": \"black\", \"width\": 2}, \"name\": \"Season avg.\", \"opacity\": 1, \"r\": [3.3333333333333335, 20.753333333333334, 10.516666666666667, 9.74, 14.200000000000001, 3.3333333333333335], \"theta\": [\"D/ST\", \"QB\", \"RB\", \"WR\", \"TE\", \"D/ST\"], \"type\": \"scatterpolar\", \"uid\": \"13994af7-25d2-11e9-b352-c49ded227fdd\"}], {\"hovermode\": \"closest\", \"polar\": {\"radialaxis\": {\"range\": [0, 31.5], \"visible\": true}}, \"showlegend\": false, \"title\": \"Average Positional Scoring in Losses for Team 4\"}, {\"showLink\": true, \"linkText\": \"Export to plot.ly\"})});</script>"
      ]
     },
     "metadata": {},
     "output_type": "display_data"
    }
   ],
   "source": [
    "# Box scores for selected team in losses:\n",
    "df_team_loss = df_team[df_team['Won'] == False]\n",
    "# List of positions. 'D/ST' is listed twice to connect the radial trace:\n",
    "positions = ['D/ST', 'QB', 'RB', 'WR', 'TE', 'D/ST']\n",
    "# Loop through matchups:\n",
    "data_loss = []\n",
    "for m in df_team_loss['Matchup']:\n",
    "    trace1 = go.Scatterpolar(\n",
    "        # Loop through positions:\n",
    "        r = [df_team_loss[df_team_loss['Matchup'] == m][p].item() for p in positions],\n",
    "        theta = positions,\n",
    "        fill = 'toself',\n",
    "        opacity = 0.4,\n",
    "        mode = 'lines+markers',\n",
    "        line = dict(width = 0.5, color = 'rgb(131, 90, 241)'),\n",
    "        marker = dict(size = 1),\n",
    "        name = 'Week {}'.format(m))\n",
    "    data_loss.append(trace1)\n",
    "\n",
    "# Create trace for average positional scores:\n",
    "trace2 = go.Scatterpolar(\n",
    "    r = [df_team_loss[p].mean() for p in positions],\n",
    "    theta = positions,\n",
    "    name = 'Season avg.',\n",
    "    opacity = 1,\n",
    "    line = dict(width = 2,color = 'black'))\n",
    "data_loss.append(trace2)\n",
    "\n",
    "layout = go.Layout(title = 'Average Positional Scoring in Losses for {}'.format(selected_team),\n",
    "                   hovermode = 'closest',\n",
    "                   polar = dict(radialaxis = dict(visible = True, range = [0,df_team[positions].max().max()])),\n",
    "                   showlegend = False)\n",
    "    \n",
    "fig = {'data':data_loss,'layout':layout}\n",
    "iplot(fig)"
   ]
  },
  {
   "cell_type": "markdown",
   "metadata": {},
   "source": [
    "There's a smaller sample size than the wins radial chart, which makes sense considering I only lost three matchups this season. On average, in matchups that I lost, my QB scored 20.8, RBs averaged 10.5, WRs averaged 9.7, TE scored 14.2, and D/ST scored 3.3. The biggest difference in positional scoring between wins and losses is at the RB position (6.2). This means I probably lost matchups due mostly to lackluster RB performance. Even though QBs generally score the most on fantasy teams, these visualizations are evidence that solid performances out of other postions is actually more vital to winning matchups."
   ]
  }
 ],
 "metadata": {
  "kernelspec": {
   "display_name": "Python [default]",
   "language": "python",
   "name": "python3"
  },
  "language_info": {
   "codemirror_mode": {
    "name": "ipython",
    "version": 3
   },
   "file_extension": ".py",
   "mimetype": "text/x-python",
   "name": "python",
   "nbconvert_exporter": "python",
   "pygments_lexer": "ipython3",
   "version": "3.6.5"
  }
 },
 "nbformat": 4,
 "nbformat_minor": 2
}
