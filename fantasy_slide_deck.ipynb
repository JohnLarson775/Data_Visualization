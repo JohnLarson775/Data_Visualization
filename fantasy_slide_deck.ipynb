{
 "cells": [
  {
   "cell_type": "markdown",
   "metadata": {
    "slideshow": {
     "slide_type": "slide"
    }
   },
   "source": [
    "## Sportsball 2018 - Visualizing a Fantasy Football Season\n",
    "### by John Larson"
   ]
  },
  {
   "cell_type": "markdown",
   "metadata": {
    "slideshow": {
     "slide_type": "slide"
    }
   },
   "source": [
    "## Investigation Overview\n",
    "\n",
    "My fantasy football league is managed through ESPN. There are a limited number of features on the league page for gaining insights into player performance. This can make it difficult for league members to manage their teams effectively. The goal of this project is to create helpful visualizations to help league members understand strengths/weaknesses and where they rank in the league.\n",
    "\n",
    "## Dataset Overview\n",
    "\n",
    "Two dataframes were created through ESPN's accessible fantasy football API. [Steven Morse](https://stmorse.github.io/), an instructor in the Department of Mathematics at the U.S. Military Academy, posted a couple articles containing instructions and code that were instrumental in helping me efficienctly create [seasonscores](https://stmorse.github.io/journal/espn-fantasy-python.html) and [boxscores](https://stmorse.github.io/journal/espn-fantasy-2-python.html) csv files using ESPN's API. Steven's articles also inspired me to make boxplots and radial charts to visualize data for my league."
   ]
  },
  {
   "cell_type": "code",
   "execution_count": 1,
   "metadata": {
    "slideshow": {
     "slide_type": "skip"
    }
   },
   "outputs": [
    {
     "data": {
      "text/html": [
       "<script>requirejs.config({paths: { 'plotly': ['https://cdn.plot.ly/plotly-latest.min']},});if(!window.Plotly) {{require(['plotly'],function(plotly) {window.Plotly=plotly;});}}</script>"
      ],
      "text/vnd.plotly.v1+html": [
       "<script>requirejs.config({paths: { 'plotly': ['https://cdn.plot.ly/plotly-latest.min']},});if(!window.Plotly) {{require(['plotly'],function(plotly) {window.Plotly=plotly;});}}</script>"
      ]
     },
     "metadata": {},
     "output_type": "display_data"
    }
   ],
   "source": [
    "# import all packages and set plots to be embedded inline:\n",
    "import numpy as np\n",
    "import pandas as pd\n",
    "from plotly.offline import plot, iplot, init_notebook_mode\n",
    "import plotly.graph_objs as go\n",
    "# Make plotly work with Jupyter notebook\n",
    "init_notebook_mode(connected = True)\n",
    "\n",
    "# suppress warnings from final output\n",
    "import warnings\n",
    "warnings.simplefilter(\"ignore\")"
   ]
  },
  {
   "cell_type": "code",
   "execution_count": 2,
   "metadata": {
    "slideshow": {
     "slide_type": "skip"
    }
   },
   "outputs": [],
   "source": [
    "# load in the datasets as pandas dataframes:\n",
    "boxscores = pd.read_csv('espn-api-to-csv/boxscores.csv')\n",
    "seasonscores = pd.read_csv('espn-api-to-csv/seasonscores.csv')"
   ]
  },
  {
   "cell_type": "markdown",
   "metadata": {
    "slideshow": {
     "slide_type": "slide"
    }
   },
   "source": [
    "## Top Players for Team 4\n",
    "\n",
    "James Conner lead my team to a championship this year, with 210 fantasy points over 13 weeks.\n",
    "\n",
    "Other notable contributors were my quarterback committee of Rodgers and Ryan, my top wide receiver Stefon Diggs, and a surprisingly successful George Kittle."
   ]
  },
  {
   "cell_type": "code",
   "execution_count": 3,
   "metadata": {
    "slideshow": {
     "slide_type": "subslide"
    }
   },
   "outputs": [
    {
     "data": {
      "application/vnd.plotly.v1+json": {
       "data": [
        {
         "type": "bar",
         "uid": "059c88b8-25d2-11e9-90f4-c49ded227fdd",
         "x": [
          "James Conner",
          "Aaron Rodgers",
          "Stefon Diggs",
          "George Kittle",
          "Joe Mixon",
          "Matt Ryan",
          "Leonard Fournette",
          "Alshon Jeffery"
         ],
         "y": [
          209.90000000000003,
          179.33999999999997,
          168.7,
          141.3,
          121,
          83.6,
          81.8,
          74.19999999999999
         ]
        }
       ],
       "layout": {
        "autosize": false,
        "bargroupgap": 0.1,
        "height": 480,
        "hovermode": "closest",
        "margin": {
         "b": 100,
         "l": 50,
         "pad": 4,
         "r": 50,
         "t": 100
        },
        "title": "Top Players for Team 4",
        "width": 720,
        "yaxis": {
         "title": "Total Season Score"
        }
       }
      },
      "text/html": [
       "<div id=\"e2f2f0a8-b3a8-4242-b156-5c1ae0336920\" style=\"height: 480px; width: 720px;\" class=\"plotly-graph-div\"></div><script type=\"text/javascript\">require([\"plotly\"], function(Plotly) { window.PLOTLYENV=window.PLOTLYENV || {};window.PLOTLYENV.BASE_URL=\"https://plot.ly\";Plotly.newPlot(\"e2f2f0a8-b3a8-4242-b156-5c1ae0336920\", [{\"x\": [\"James Conner\", \"Aaron Rodgers\", \"Stefon Diggs\", \"George Kittle\", \"Joe Mixon\", \"Matt Ryan\", \"Leonard Fournette\", \"Alshon Jeffery\"], \"y\": [209.90000000000003, 179.33999999999997, 168.7, 141.3, 121.0, 83.6, 81.8, 74.19999999999999], \"type\": \"bar\", \"uid\": \"059e66ba-25d2-11e9-a953-c49ded227fdd\"}], {\"autosize\": false, \"bargroupgap\": 0.1, \"height\": 480, \"hovermode\": \"closest\", \"margin\": {\"b\": 100, \"l\": 50, \"pad\": 4, \"r\": 50, \"t\": 100}, \"title\": \"Top Players for Team 4\", \"width\": 720, \"yaxis\": {\"title\": \"Total Season Score\"}}, {\"showLink\": true, \"linkText\": \"Export to plot.ly\"})});</script>"
      ],
      "text/vnd.plotly.v1+html": [
       "<div id=\"e2f2f0a8-b3a8-4242-b156-5c1ae0336920\" style=\"height: 480px; width: 720px;\" class=\"plotly-graph-div\"></div><script type=\"text/javascript\">require([\"plotly\"], function(Plotly) { window.PLOTLYENV=window.PLOTLYENV || {};window.PLOTLYENV.BASE_URL=\"https://plot.ly\";Plotly.newPlot(\"e2f2f0a8-b3a8-4242-b156-5c1ae0336920\", [{\"x\": [\"James Conner\", \"Aaron Rodgers\", \"Stefon Diggs\", \"George Kittle\", \"Joe Mixon\", \"Matt Ryan\", \"Leonard Fournette\", \"Alshon Jeffery\"], \"y\": [209.90000000000003, 179.33999999999997, 168.7, 141.3, 121.0, 83.6, 81.8, 74.19999999999999], \"type\": \"bar\", \"uid\": \"059e66ba-25d2-11e9-a953-c49ded227fdd\"}], {\"autosize\": false, \"bargroupgap\": 0.1, \"height\": 480, \"hovermode\": \"closest\", \"margin\": {\"b\": 100, \"l\": 50, \"pad\": 4, \"r\": 50, \"t\": 100}, \"title\": \"Top Players for Team 4\", \"width\": 720, \"yaxis\": {\"title\": \"Total Season Score\"}}, {\"showLink\": true, \"linkText\": \"Export to plot.ly\"})});</script>"
      ]
     },
     "metadata": {},
     "output_type": "display_data"
    }
   ],
   "source": [
    "selected_team = 'Team 4'\n",
    "# Isolate one team:\n",
    "relevant_team = boxscores[boxscores['teamName'] == selected_team]\n",
    "# Eliminate bench players:\n",
    "relevant_players = relevant_team[relevant_team['slotId'] != 20]\n",
    "# Identify the top eight players for the season\n",
    "top_performers_list = relevant_players.groupby('playerName')['appliedStatTotal']\\\n",
    "    .sum().sort_values(ascending = False)[0:8].index.tolist()\n",
    "# Restrict relevant_players to the top performers:\n",
    "relevant_player_scores = relevant_players[relevant_players['playerName'].isin(top_performers_list)]\n",
    "# Top performers df:\n",
    "top_performers = relevant_player_scores.groupby('playerName')\\\n",
    "    .sum()['appliedStatTotal'].sort_values(ascending = False)\n",
    "\n",
    "data = [go.Bar(x = top_performers.keys(), y = top_performers.tolist())]\n",
    "\n",
    "layout = go.Layout(\n",
    "        title = 'Top Players for {}'.format(selected_team),\n",
    "        yaxis = {'title':'Total Season Score'},\n",
    "        hovermode = 'closest',\n",
    "        autosize = False,\n",
    "        width = 720,\n",
    "        height = 480,\n",
    "        margin = dict(\n",
    "            l = 50,\n",
    "            r = 50,\n",
    "            b = 100,\n",
    "            t = 100,\n",
    "            pad = 4),\n",
    "        bargroupgap = 0.1)\n",
    "\n",
    "fig = {'data':data,'layout':layout}\n",
    "iplot(fig)"
   ]
  },
  {
   "cell_type": "markdown",
   "metadata": {
    "collapsed": true,
    "slideshow": {
     "slide_type": "slide"
    }
   },
   "source": [
    "## 2018 Regular Season Fantasy Scoring\n",
    "Scores for the season were all over the map, ranging from Team 2 putting up a measly 60 points in week 8, to Team 5 posting 169 points in Week 4. There doesn't seem to be a relationship between variance of scores and magnitude of scores. In other words, a team's scoring consistency is not correlated to the team's success in term of how many points they score on average.\n",
    "\n",
    "My team (Team 4) ranks 4th in average score. One thing I remember about my fantasy season that's easily seen in this boxplot is my three weeks in a row of scoring 121 points.\n",
    "\n",
    "Sharing this chart with leaguemates would be a helpful way for them to understand their team's scoring consistency and how they stack up amongst the competition."
   ]
  },
  {
   "cell_type": "code",
   "execution_count": 4,
   "metadata": {
    "slideshow": {
     "slide_type": "subslide"
    }
   },
   "outputs": [
    {
     "data": {
      "application/vnd.plotly.v1+json": {
       "data": [
        {
         "boxpoints": "all",
         "jitter": 0.4,
         "name": "Team 3",
         "pointpos": 0,
         "text": [
          "Week 2",
          "Week 4",
          "Week 5",
          "Week 7",
          "Week 9",
          "Week 12",
          "Week 1",
          "Week 3",
          "Week 6",
          "Week 8",
          "Week 10",
          "Week 11",
          "Week 13"
         ],
         "type": "box",
         "uid": "05b86758-25d2-11e9-8322-c49ded227fdd",
         "y": [
          88.7,
          103.7,
          123.3,
          96.1,
          89.4,
          73.9,
          114,
          98.3,
          81.2,
          99.1,
          111.1,
          72,
          87.6
         ]
        },
        {
         "boxpoints": "all",
         "jitter": 0.4,
         "name": "Team 9",
         "pointpos": 0,
         "text": [
          "Week 1",
          "Week 2",
          "Week 4",
          "Week 6",
          "Week 7",
          "Week 9",
          "Week 11",
          "Week 3",
          "Week 5",
          "Week 8",
          "Week 10",
          "Week 12",
          "Week 13"
         ],
         "type": "box",
         "uid": "05b86759-25d2-11e9-9651-c49ded227fdd",
         "y": [
          76.7,
          99,
          72.3,
          87,
          88.7,
          75.5,
          118.6,
          85.9,
          110.2,
          133.4,
          112.3,
          87.6,
          105.4
         ]
        },
        {
         "boxpoints": "all",
         "jitter": 0.4,
         "name": "Team 1",
         "pointpos": 0,
         "text": [
          "Week 1",
          "Week 3",
          "Week 4",
          "Week 6",
          "Week 8",
          "Week 9",
          "Week 11",
          "Week 13",
          "Week 2",
          "Week 5",
          "Week 7",
          "Week 10",
          "Week 12"
         ],
         "type": "box",
         "uid": "05b8675a-25d2-11e9-8d4e-c49ded227fdd",
         "y": [
          91.6,
          86,
          85.8,
          99.3,
          118.4,
          90.1,
          106,
          86.2,
          116,
          104.5,
          97.1,
          104.1,
          117.2
         ]
        },
        {
         "boxpoints": "all",
         "jitter": 0.4,
         "name": "Team 10",
         "pointpos": 0,
         "text": [
          "Week 2",
          "Week 3",
          "Week 5",
          "Week 7",
          "Week 10",
          "Week 12",
          "Week 1",
          "Week 4",
          "Week 6",
          "Week 8",
          "Week 9",
          "Week 11",
          "Week 13"
         ],
         "type": "box",
         "uid": "05b8675b-25d2-11e9-9124-c49ded227fdd",
         "y": [
          106.3,
          114.6,
          88.6,
          123.9,
          146.4,
          114.4,
          94.2,
          102.5,
          112.4,
          61.2,
          110.5,
          84.6,
          71.8
         ]
        },
        {
         "boxpoints": "all",
         "jitter": 0.4,
         "name": "Team 2",
         "pointpos": 0,
         "text": [
          "Week 2",
          "Week 5",
          "Week 7",
          "Week 9",
          "Week 10",
          "Week 12",
          "Week 1",
          "Week 3",
          "Week 4",
          "Week 6",
          "Week 8",
          "Week 11",
          "Week 13"
         ],
         "type": "box",
         "uid": "05b8675c-25d2-11e9-838a-c49ded227fdd",
         "y": [
          98.4,
          97.4,
          85.2,
          122.7,
          92.5,
          124,
          147.9,
          74.1,
          134.1,
          112.4,
          60,
          80.6,
          109.5
         ]
        },
        {
         "boxpoints": "all",
         "jitter": 0.4,
         "name": "Team 11",
         "pointpos": 0,
         "text": [
          "Week 2",
          "Week 4",
          "Week 7",
          "Week 9",
          "Week 11",
          "Week 12",
          "Week 1",
          "Week 3",
          "Week 5",
          "Week 6",
          "Week 8",
          "Week 10",
          "Week 13"
         ],
         "type": "box",
         "uid": "05b8675d-25d2-11e9-b605-c49ded227fdd",
         "y": [
          105.9,
          95.1,
          126.6,
          90.9,
          104.4,
          135,
          86,
          92.7,
          94.9,
          116.9,
          96.8,
          117.2,
          97.1
         ]
        },
        {
         "boxpoints": "all",
         "jitter": 0.4,
         "name": "Team 12",
         "pointpos": 0,
         "text": [
          "Week 2",
          "Week 4",
          "Week 6",
          "Week 8",
          "Week 10",
          "Week 12",
          "Week 1",
          "Week 3",
          "Week 5",
          "Week 7",
          "Week 9",
          "Week 11",
          "Week 13"
         ],
         "type": "box",
         "uid": "05b8675e-25d2-11e9-866d-c49ded227fdd",
         "y": [
          107,
          129.1,
          80.8,
          120,
          113.7,
          133.3,
          110.4,
          112.5,
          102.1,
          94.5,
          106.1,
          125.2,
          88.7
         ]
        },
        {
         "boxpoints": "all",
         "jitter": 0.4,
         "name": "Team 5",
         "pointpos": 0,
         "text": [
          "Week 1",
          "Week 4",
          "Week 6",
          "Week 9",
          "Week 11",
          "Week 13",
          "Week 2",
          "Week 3",
          "Week 5",
          "Week 7",
          "Week 8",
          "Week 10",
          "Week 12"
         ],
         "type": "box",
         "uid": "05b8675f-25d2-11e9-8b64-c49ded227fdd",
         "y": [
          122.3,
          169.3,
          128.8,
          114.9,
          111.9,
          92.1,
          109.4,
          142.1,
          86.9,
          121.5,
          103.6,
          105.1,
          112.4
         ]
        },
        {
         "boxpoints": "all",
         "jitter": 0.4,
         "name": "Team 4",
         "pointpos": 0,
         "text": [
          "Week 3",
          "Week 5",
          "Week 7",
          "Week 8",
          "Week 10",
          "Week 12",
          "Week 13",
          "Week 1",
          "Week 2",
          "Week 4",
          "Week 6",
          "Week 9",
          "Week 11"
         ],
         "type": "box",
         "uid": "05b86760-25d2-11e9-9fc7-c49ded227fdd",
         "y": [
          121.2,
          109.5,
          86,
          149.5,
          111.9,
          126.5,
          103.8,
          101,
          121.4,
          121.9,
          141.8,
          127.3,
          109.8
         ]
        },
        {
         "boxpoints": "all",
         "jitter": 0.4,
         "name": "Team 6",
         "pointpos": 0,
         "text": [
          "Week 1",
          "Week 3",
          "Week 6",
          "Week 8",
          "Week 11",
          "Week 13",
          "Week 2",
          "Week 4",
          "Week 5",
          "Week 7",
          "Week 9",
          "Week 10",
          "Week 12"
         ],
         "type": "box",
         "uid": "05b86761-25d2-11e9-bf88-c49ded227fdd",
         "y": [
          112.3,
          127.3,
          112.4,
          138.7,
          115.5,
          117.2,
          135.7,
          128.8,
          127.9,
          134.6,
          135.8,
          90.9,
          102.8
         ]
        },
        {
         "boxpoints": "all",
         "jitter": 0.4,
         "name": "Team 7",
         "pointpos": 0,
         "text": [
          "Week 1",
          "Week 3",
          "Week 5",
          "Week 6",
          "Week 8",
          "Week 10",
          "Week 11",
          "Week 13",
          "Week 2",
          "Week 4",
          "Week 7",
          "Week 9",
          "Week 12"
         ],
         "type": "box",
         "uid": "05b86762-25d2-11e9-8684-c49ded227fdd",
         "y": [
          164.9,
          135.2,
          147.6,
          138,
          123.5,
          127.8,
          106.9,
          104.3,
          125.7,
          67.9,
          111.2,
          117.8,
          118.4
         ]
        },
        {
         "boxpoints": "all",
         "jitter": 0.4,
         "name": "Team 8",
         "pointpos": 0,
         "text": [
          "Week 1",
          "Week 3",
          "Week 5",
          "Week 8",
          "Week 10",
          "Week 13",
          "Week 2",
          "Week 4",
          "Week 6",
          "Week 7",
          "Week 9",
          "Week 11",
          "Week 12"
         ],
         "type": "box",
         "uid": "05b86763-25d2-11e9-a27c-c49ded227fdd",
         "y": [
          74,
          95.4,
          90,
          136.3,
          128.2,
          125.6,
          143.6,
          155.2,
          108.7,
          151.1,
          98.5,
          154.9,
          132.3
         ]
        }
       ],
       "layout": {
        "autosize": false,
        "height": 480,
        "hovermode": "closest",
        "margin": {
         "b": 100,
         "l": 50,
         "pad": 4,
         "r": 50,
         "t": 100
        },
        "showlegend": false,
        "title": "2018 Regular Season Fantasy Scoring",
        "width": 720,
        "yaxis": {
         "nticks": 10,
         "range": [
          50,
          170
         ],
         "title": "Score"
        }
       }
      },
      "text/html": [
       "<div id=\"98d0b949-10a5-461c-a0f5-3eff98bbcc95\" style=\"height: 480px; width: 720px;\" class=\"plotly-graph-div\"></div><script type=\"text/javascript\">require([\"plotly\"], function(Plotly) { window.PLOTLYENV=window.PLOTLYENV || {};window.PLOTLYENV.BASE_URL=\"https://plot.ly\";Plotly.newPlot(\"98d0b949-10a5-461c-a0f5-3eff98bbcc95\", [{\"boxpoints\": \"all\", \"jitter\": 0.4, \"name\": \"Team 3\", \"pointpos\": 0, \"text\": [\"Week 2\", \"Week 4\", \"Week 5\", \"Week 7\", \"Week 9\", \"Week 12\", \"Week 1\", \"Week 3\", \"Week 6\", \"Week 8\", \"Week 10\", \"Week 11\", \"Week 13\"], \"y\": [88.7, 103.7, 123.3, 96.1, 89.4, 73.9, 114.0, 98.3, 81.2, 99.1, 111.1, 72.0, 87.6], \"type\": \"box\", \"uid\": \"05bed53e-25d2-11e9-bb3d-c49ded227fdd\"}, {\"boxpoints\": \"all\", \"jitter\": 0.4, \"name\": \"Team 9\", \"pointpos\": 0, \"text\": [\"Week 1\", \"Week 2\", \"Week 4\", \"Week 6\", \"Week 7\", \"Week 9\", \"Week 11\", \"Week 3\", \"Week 5\", \"Week 8\", \"Week 10\", \"Week 12\", \"Week 13\"], \"y\": [76.7, 99.0, 72.3, 87.0, 88.7, 75.5, 118.6, 85.9, 110.2, 133.4, 112.3, 87.6, 105.4], \"type\": \"box\", \"uid\": \"05bed53f-25d2-11e9-b713-c49ded227fdd\"}, {\"boxpoints\": \"all\", \"jitter\": 0.4, \"name\": \"Team 1\", \"pointpos\": 0, \"text\": [\"Week 1\", \"Week 3\", \"Week 4\", \"Week 6\", \"Week 8\", \"Week 9\", \"Week 11\", \"Week 13\", \"Week 2\", \"Week 5\", \"Week 7\", \"Week 10\", \"Week 12\"], \"y\": [91.6, 86.0, 85.8, 99.3, 118.4, 90.1, 106.0, 86.2, 116.0, 104.5, 97.1, 104.1, 117.2], \"type\": \"box\", \"uid\": \"05bed540-25d2-11e9-ab46-c49ded227fdd\"}, {\"boxpoints\": \"all\", \"jitter\": 0.4, \"name\": \"Team 10\", \"pointpos\": 0, \"text\": [\"Week 2\", \"Week 3\", \"Week 5\", \"Week 7\", \"Week 10\", \"Week 12\", \"Week 1\", \"Week 4\", \"Week 6\", \"Week 8\", \"Week 9\", \"Week 11\", \"Week 13\"], \"y\": [106.3, 114.6, 88.6, 123.9, 146.4, 114.4, 94.2, 102.5, 112.4, 61.2, 110.5, 84.6, 71.8], \"type\": \"box\", \"uid\": \"05bed541-25d2-11e9-9be5-c49ded227fdd\"}, {\"boxpoints\": \"all\", \"jitter\": 0.4, \"name\": \"Team 2\", \"pointpos\": 0, \"text\": [\"Week 2\", \"Week 5\", \"Week 7\", \"Week 9\", \"Week 10\", \"Week 12\", \"Week 1\", \"Week 3\", \"Week 4\", \"Week 6\", \"Week 8\", \"Week 11\", \"Week 13\"], \"y\": [98.4, 97.4, 85.2, 122.7, 92.5, 124.0, 147.9, 74.1, 134.1, 112.4, 60.0, 80.6, 109.5], \"type\": \"box\", \"uid\": \"05bed542-25d2-11e9-88f9-c49ded227fdd\"}, {\"boxpoints\": \"all\", \"jitter\": 0.4, \"name\": \"Team 11\", \"pointpos\": 0, \"text\": [\"Week 2\", \"Week 4\", \"Week 7\", \"Week 9\", \"Week 11\", \"Week 12\", \"Week 1\", \"Week 3\", \"Week 5\", \"Week 6\", \"Week 8\", \"Week 10\", \"Week 13\"], \"y\": [105.9, 95.1, 126.6, 90.9, 104.4, 135.0, 86.0, 92.7, 94.9, 116.9, 96.8, 117.2, 97.1], \"type\": \"box\", \"uid\": \"05bed543-25d2-11e9-a020-c49ded227fdd\"}, {\"boxpoints\": \"all\", \"jitter\": 0.4, \"name\": \"Team 12\", \"pointpos\": 0, \"text\": [\"Week 2\", \"Week 4\", \"Week 6\", \"Week 8\", \"Week 10\", \"Week 12\", \"Week 1\", \"Week 3\", \"Week 5\", \"Week 7\", \"Week 9\", \"Week 11\", \"Week 13\"], \"y\": [107.0, 129.1, 80.8, 120.0, 113.7, 133.3, 110.4, 112.5, 102.1, 94.5, 106.1, 125.2, 88.7], \"type\": \"box\", \"uid\": \"05bed544-25d2-11e9-bb60-c49ded227fdd\"}, {\"boxpoints\": \"all\", \"jitter\": 0.4, \"name\": \"Team 5\", \"pointpos\": 0, \"text\": [\"Week 1\", \"Week 4\", \"Week 6\", \"Week 9\", \"Week 11\", \"Week 13\", \"Week 2\", \"Week 3\", \"Week 5\", \"Week 7\", \"Week 8\", \"Week 10\", \"Week 12\"], \"y\": [122.3, 169.3, 128.8, 114.9, 111.9, 92.1, 109.4, 142.1, 86.9, 121.5, 103.6, 105.1, 112.4], \"type\": \"box\", \"uid\": \"05bed545-25d2-11e9-9400-c49ded227fdd\"}, {\"boxpoints\": \"all\", \"jitter\": 0.4, \"name\": \"Team 4\", \"pointpos\": 0, \"text\": [\"Week 3\", \"Week 5\", \"Week 7\", \"Week 8\", \"Week 10\", \"Week 12\", \"Week 13\", \"Week 1\", \"Week 2\", \"Week 4\", \"Week 6\", \"Week 9\", \"Week 11\"], \"y\": [121.2, 109.5, 86.0, 149.5, 111.9, 126.5, 103.8, 101.0, 121.4, 121.9, 141.8, 127.3, 109.8], \"type\": \"box\", \"uid\": \"05bed546-25d2-11e9-a7f8-c49ded227fdd\"}, {\"boxpoints\": \"all\", \"jitter\": 0.4, \"name\": \"Team 6\", \"pointpos\": 0, \"text\": [\"Week 1\", \"Week 3\", \"Week 6\", \"Week 8\", \"Week 11\", \"Week 13\", \"Week 2\", \"Week 4\", \"Week 5\", \"Week 7\", \"Week 9\", \"Week 10\", \"Week 12\"], \"y\": [112.3, 127.3, 112.4, 138.7, 115.5, 117.2, 135.7, 128.8, 127.9, 134.6, 135.8, 90.9, 102.8], \"type\": \"box\", \"uid\": \"05bed547-25d2-11e9-98cb-c49ded227fdd\"}, {\"boxpoints\": \"all\", \"jitter\": 0.4, \"name\": \"Team 7\", \"pointpos\": 0, \"text\": [\"Week 1\", \"Week 3\", \"Week 5\", \"Week 6\", \"Week 8\", \"Week 10\", \"Week 11\", \"Week 13\", \"Week 2\", \"Week 4\", \"Week 7\", \"Week 9\", \"Week 12\"], \"y\": [164.9, 135.2, 147.6, 138.0, 123.5, 127.8, 106.9, 104.3, 125.7, 67.9, 111.2, 117.8, 118.4], \"type\": \"box\", \"uid\": \"05bed548-25d2-11e9-88ec-c49ded227fdd\"}, {\"boxpoints\": \"all\", \"jitter\": 0.4, \"name\": \"Team 8\", \"pointpos\": 0, \"text\": [\"Week 1\", \"Week 3\", \"Week 5\", \"Week 8\", \"Week 10\", \"Week 13\", \"Week 2\", \"Week 4\", \"Week 6\", \"Week 7\", \"Week 9\", \"Week 11\", \"Week 12\"], \"y\": [74.0, 95.4, 90.0, 136.3, 128.2, 125.6, 143.6, 155.2, 108.7, 151.1, 98.5, 154.9, 132.3], \"type\": \"box\", \"uid\": \"05bed549-25d2-11e9-b005-c49ded227fdd\"}], {\"autosize\": false, \"height\": 480, \"hovermode\": \"closest\", \"margin\": {\"b\": 100, \"l\": 50, \"pad\": 4, \"r\": 50, \"t\": 100}, \"showlegend\": false, \"title\": \"2018 Regular Season Fantasy Scoring\", \"width\": 720, \"yaxis\": {\"nticks\": 10, \"range\": [50, 170], \"title\": \"Score\"}}, {\"showLink\": true, \"linkText\": \"Export to plot.ly\"})});</script>"
      ],
      "text/vnd.plotly.v1+html": [
       "<div id=\"98d0b949-10a5-461c-a0f5-3eff98bbcc95\" style=\"height: 480px; width: 720px;\" class=\"plotly-graph-div\"></div><script type=\"text/javascript\">require([\"plotly\"], function(Plotly) { window.PLOTLYENV=window.PLOTLYENV || {};window.PLOTLYENV.BASE_URL=\"https://plot.ly\";Plotly.newPlot(\"98d0b949-10a5-461c-a0f5-3eff98bbcc95\", [{\"boxpoints\": \"all\", \"jitter\": 0.4, \"name\": \"Team 3\", \"pointpos\": 0, \"text\": [\"Week 2\", \"Week 4\", \"Week 5\", \"Week 7\", \"Week 9\", \"Week 12\", \"Week 1\", \"Week 3\", \"Week 6\", \"Week 8\", \"Week 10\", \"Week 11\", \"Week 13\"], \"y\": [88.7, 103.7, 123.3, 96.1, 89.4, 73.9, 114.0, 98.3, 81.2, 99.1, 111.1, 72.0, 87.6], \"type\": \"box\", \"uid\": \"05bed53e-25d2-11e9-bb3d-c49ded227fdd\"}, {\"boxpoints\": \"all\", \"jitter\": 0.4, \"name\": \"Team 9\", \"pointpos\": 0, \"text\": [\"Week 1\", \"Week 2\", \"Week 4\", \"Week 6\", \"Week 7\", \"Week 9\", \"Week 11\", \"Week 3\", \"Week 5\", \"Week 8\", \"Week 10\", \"Week 12\", \"Week 13\"], \"y\": [76.7, 99.0, 72.3, 87.0, 88.7, 75.5, 118.6, 85.9, 110.2, 133.4, 112.3, 87.6, 105.4], \"type\": \"box\", \"uid\": \"05bed53f-25d2-11e9-b713-c49ded227fdd\"}, {\"boxpoints\": \"all\", \"jitter\": 0.4, \"name\": \"Team 1\", \"pointpos\": 0, \"text\": [\"Week 1\", \"Week 3\", \"Week 4\", \"Week 6\", \"Week 8\", \"Week 9\", \"Week 11\", \"Week 13\", \"Week 2\", \"Week 5\", \"Week 7\", \"Week 10\", \"Week 12\"], \"y\": [91.6, 86.0, 85.8, 99.3, 118.4, 90.1, 106.0, 86.2, 116.0, 104.5, 97.1, 104.1, 117.2], \"type\": \"box\", \"uid\": \"05bed540-25d2-11e9-ab46-c49ded227fdd\"}, {\"boxpoints\": \"all\", \"jitter\": 0.4, \"name\": \"Team 10\", \"pointpos\": 0, \"text\": [\"Week 2\", \"Week 3\", \"Week 5\", \"Week 7\", \"Week 10\", \"Week 12\", \"Week 1\", \"Week 4\", \"Week 6\", \"Week 8\", \"Week 9\", \"Week 11\", \"Week 13\"], \"y\": [106.3, 114.6, 88.6, 123.9, 146.4, 114.4, 94.2, 102.5, 112.4, 61.2, 110.5, 84.6, 71.8], \"type\": \"box\", \"uid\": \"05bed541-25d2-11e9-9be5-c49ded227fdd\"}, {\"boxpoints\": \"all\", \"jitter\": 0.4, \"name\": \"Team 2\", \"pointpos\": 0, \"text\": [\"Week 2\", \"Week 5\", \"Week 7\", \"Week 9\", \"Week 10\", \"Week 12\", \"Week 1\", \"Week 3\", \"Week 4\", \"Week 6\", \"Week 8\", \"Week 11\", \"Week 13\"], \"y\": [98.4, 97.4, 85.2, 122.7, 92.5, 124.0, 147.9, 74.1, 134.1, 112.4, 60.0, 80.6, 109.5], \"type\": \"box\", \"uid\": \"05bed542-25d2-11e9-88f9-c49ded227fdd\"}, {\"boxpoints\": \"all\", \"jitter\": 0.4, \"name\": \"Team 11\", \"pointpos\": 0, \"text\": [\"Week 2\", \"Week 4\", \"Week 7\", \"Week 9\", \"Week 11\", \"Week 12\", \"Week 1\", \"Week 3\", \"Week 5\", \"Week 6\", \"Week 8\", \"Week 10\", \"Week 13\"], \"y\": [105.9, 95.1, 126.6, 90.9, 104.4, 135.0, 86.0, 92.7, 94.9, 116.9, 96.8, 117.2, 97.1], \"type\": \"box\", \"uid\": \"05bed543-25d2-11e9-a020-c49ded227fdd\"}, {\"boxpoints\": \"all\", \"jitter\": 0.4, \"name\": \"Team 12\", \"pointpos\": 0, \"text\": [\"Week 2\", \"Week 4\", \"Week 6\", \"Week 8\", \"Week 10\", \"Week 12\", \"Week 1\", \"Week 3\", \"Week 5\", \"Week 7\", \"Week 9\", \"Week 11\", \"Week 13\"], \"y\": [107.0, 129.1, 80.8, 120.0, 113.7, 133.3, 110.4, 112.5, 102.1, 94.5, 106.1, 125.2, 88.7], \"type\": \"box\", \"uid\": \"05bed544-25d2-11e9-bb60-c49ded227fdd\"}, {\"boxpoints\": \"all\", \"jitter\": 0.4, \"name\": \"Team 5\", \"pointpos\": 0, \"text\": [\"Week 1\", \"Week 4\", \"Week 6\", \"Week 9\", \"Week 11\", \"Week 13\", \"Week 2\", \"Week 3\", \"Week 5\", \"Week 7\", \"Week 8\", \"Week 10\", \"Week 12\"], \"y\": [122.3, 169.3, 128.8, 114.9, 111.9, 92.1, 109.4, 142.1, 86.9, 121.5, 103.6, 105.1, 112.4], \"type\": \"box\", \"uid\": \"05bed545-25d2-11e9-9400-c49ded227fdd\"}, {\"boxpoints\": \"all\", \"jitter\": 0.4, \"name\": \"Team 4\", \"pointpos\": 0, \"text\": [\"Week 3\", \"Week 5\", \"Week 7\", \"Week 8\", \"Week 10\", \"Week 12\", \"Week 13\", \"Week 1\", \"Week 2\", \"Week 4\", \"Week 6\", \"Week 9\", \"Week 11\"], \"y\": [121.2, 109.5, 86.0, 149.5, 111.9, 126.5, 103.8, 101.0, 121.4, 121.9, 141.8, 127.3, 109.8], \"type\": \"box\", \"uid\": \"05bed546-25d2-11e9-a7f8-c49ded227fdd\"}, {\"boxpoints\": \"all\", \"jitter\": 0.4, \"name\": \"Team 6\", \"pointpos\": 0, \"text\": [\"Week 1\", \"Week 3\", \"Week 6\", \"Week 8\", \"Week 11\", \"Week 13\", \"Week 2\", \"Week 4\", \"Week 5\", \"Week 7\", \"Week 9\", \"Week 10\", \"Week 12\"], \"y\": [112.3, 127.3, 112.4, 138.7, 115.5, 117.2, 135.7, 128.8, 127.9, 134.6, 135.8, 90.9, 102.8], \"type\": \"box\", \"uid\": \"05bed547-25d2-11e9-98cb-c49ded227fdd\"}, {\"boxpoints\": \"all\", \"jitter\": 0.4, \"name\": \"Team 7\", \"pointpos\": 0, \"text\": [\"Week 1\", \"Week 3\", \"Week 5\", \"Week 6\", \"Week 8\", \"Week 10\", \"Week 11\", \"Week 13\", \"Week 2\", \"Week 4\", \"Week 7\", \"Week 9\", \"Week 12\"], \"y\": [164.9, 135.2, 147.6, 138.0, 123.5, 127.8, 106.9, 104.3, 125.7, 67.9, 111.2, 117.8, 118.4], \"type\": \"box\", \"uid\": \"05bed548-25d2-11e9-88ec-c49ded227fdd\"}, {\"boxpoints\": \"all\", \"jitter\": 0.4, \"name\": \"Team 8\", \"pointpos\": 0, \"text\": [\"Week 1\", \"Week 3\", \"Week 5\", \"Week 8\", \"Week 10\", \"Week 13\", \"Week 2\", \"Week 4\", \"Week 6\", \"Week 7\", \"Week 9\", \"Week 11\", \"Week 12\"], \"y\": [74.0, 95.4, 90.0, 136.3, 128.2, 125.6, 143.6, 155.2, 108.7, 151.1, 98.5, 154.9, 132.3], \"type\": \"box\", \"uid\": \"05bed549-25d2-11e9-b005-c49ded227fdd\"}], {\"autosize\": false, \"height\": 480, \"hovermode\": \"closest\", \"margin\": {\"b\": 100, \"l\": 50, \"pad\": 4, \"r\": 50, \"t\": 100}, \"showlegend\": false, \"title\": \"2018 Regular Season Fantasy Scoring\", \"width\": 720, \"yaxis\": {\"nticks\": 10, \"range\": [50, 170], \"title\": \"Score\"}}, {\"showLink\": true, \"linkText\": \"Export to plot.ly\"})});</script>"
      ]
     },
     "metadata": {},
     "output_type": "display_data"
    }
   ],
   "source": [
    "# Reorder teams by mean so that they're plotted nicely\n",
    "teamorder = np.array(seasonscores.groupby('Team')['Score'].mean().sort_values().index)\n",
    "\n",
    "# Plot season scores\n",
    "data = []\n",
    "for team in teamorder:\n",
    "    # 'z' is a team specific dataframe\n",
    "    z = seasonscores[seasonscores['Team'] == team]\n",
    "    trace = go.Box(\n",
    "        y = z['Score'],\n",
    "        name = team,\n",
    "        text = 'Week ' + z['Week'].astype(str),\n",
    "        boxpoints = 'all',\n",
    "        jitter = 0.4,\n",
    "        pointpos = 0)\n",
    "    data.append(trace)\n",
    "                   \n",
    "layout = go.Layout(\n",
    "    title = '2018 Regular Season Fantasy Scoring',\n",
    "    showlegend = False,\n",
    "    yaxis = dict(title = 'Score', range = [50,170], nticks = 10),\n",
    "    hovermode = 'closest',\n",
    "    autosize = False,\n",
    "    width = 720,\n",
    "    height = 480,\n",
    "    margin = dict(\n",
    "        l = 50,\n",
    "        r = 50,\n",
    "        b = 100,\n",
    "        t = 100,\n",
    "        pad = 4))\n",
    "\n",
    "fig = {'data':data,'layout':layout}\n",
    "iplot(fig)"
   ]
  },
  {
   "cell_type": "markdown",
   "metadata": {
    "slideshow": {
     "slide_type": "slide"
    }
   },
   "source": [
    "## Average Positional Scoring in Wins and Losses for Team 4\n",
    "Each purple trace shows an individual week. The black line shows the average positional score.\n",
    "\n",
    "On average, in matchups that I won, my QB scored 20.1, RBs averaged 16.7, WRs averaged 12.8, TE scored 10.2, and D/ST scored 7.8.\n",
    "\n",
    "There's a smaller sample size in the losses radial chart, which makes sense considering I only lost three matchups this season. On average, in matchups that I lost, my QB scored 20.8, RBs averaged 10.5, WRs averaged 9.7, TE scored 14.2, and D/ST scored 3.3.\n",
    "\n",
    "The biggest difference in positional scoring between wins and losses is at the RB position (6.2). This means I probably lost matchups due mostly to lackluster RB performance. Even though QBs generally score the most on fantasy teams, these visualizations are evidence that solid performances out of other postions is actually more vital to winning matchups."
   ]
  },
  {
   "cell_type": "code",
   "execution_count": 5,
   "metadata": {
    "slideshow": {
     "slide_type": "skip"
    }
   },
   "outputs": [],
   "source": [
    "# Filter out bench players ('slotId' = 20):\n",
    "positional_stats = (boxscores[(boxscores['slotId'] != 20)]\n",
    " .filter(items=['teamName', 'matchupPeriodId', 'position', 'appliedStatTotal', 'wonMatchup'], axis=1)\n",
    " # group by team, matchup, and postion and take the mean positional score using .agg:\n",
    " .groupby(['teamName', 'matchupPeriodId', 'position'])\n",
    " .agg({'appliedStatTotal': 'mean'})\n",
    " # Pivot table on 'position' to create new columns:\n",
    " .unstack('position')\n",
    " .reset_index())\n",
    "# Create 'Won' column by taking the min of 'wonMatchup':\n",
    "positional_stats['Won'] = boxscores.groupby(['teamName', 'matchupPeriodId']).agg({'wonMatchup': 'min'}).reset_index(drop=True)\n",
    "# Rearrange columns:\n",
    "positional_stats.columns = ['Team', 'Matchup', 'D/ST', 'QB', 'RB', 'TE', 'WR', 'Won']\n",
    "# Round floats:\n",
    "positional_stats = positional_stats.round(2)"
   ]
  },
  {
   "cell_type": "code",
   "execution_count": 6,
   "metadata": {
    "slideshow": {
     "slide_type": "subslide"
    }
   },
   "outputs": [
    {
     "data": {
      "application/vnd.plotly.v1+json": {
       "data": [
        {
         "fill": "toself",
         "line": {
          "color": "rgb(131, 90, 241)",
          "width": 0.5
         },
         "marker": {
          "size": 1
         },
         "mode": "lines+markers",
         "name": "Week 2",
         "opacity": 0.4,
         "r": [
          11,
          16.04,
          11.93,
          18.47,
          3.2,
          11
         ],
         "theta": [
          "D/ST",
          "QB",
          "RB",
          "WR",
          "TE",
          "D/ST"
         ],
         "type": "scatterpolar",
         "uid": "05e5cc02-25d2-11e9-9e23-c49ded227fdd"
        },
        {
         "fill": "toself",
         "line": {
          "color": "rgb(131, 90, 241)",
          "width": 0.5
         },
         "marker": {
          "size": 1
         },
         "mode": "lines+markers",
         "name": "Week 3",
         "opacity": 0.4,
         "r": [
          11,
          19.9,
          14,
          11.97,
          12.4,
          11
         ],
         "theta": [
          "D/ST",
          "QB",
          "RB",
          "WR",
          "TE",
          "D/ST"
         ],
         "type": "scatterpolar",
         "uid": "05e5cc03-25d2-11e9-b31f-c49ded227fdd"
        },
        {
         "fill": "toself",
         "line": {
          "color": "rgb(131, 90, 241)",
          "width": 0.5
         },
         "marker": {
          "size": 1
         },
         "mode": "lines+markers",
         "name": "Week 4",
         "opacity": 0.4,
         "r": [
          4,
          29.26,
          6.97,
          15.4,
          21.5,
          4
         ],
         "theta": [
          "D/ST",
          "QB",
          "RB",
          "WR",
          "TE",
          "D/ST"
         ],
         "type": "scatterpolar",
         "uid": "05e5cc04-25d2-11e9-bb4a-c49ded227fdd"
        },
        {
         "fill": "toself",
         "line": {
          "color": "rgb(131, 90, 241)",
          "width": 0.5
         },
         "marker": {
          "size": 1
         },
         "mode": "lines+markers",
         "name": "Week 5",
         "opacity": 0.4,
         "r": [
          -2,
          14.4,
          19.47,
          9.3,
          10.8,
          -2
         ],
         "theta": [
          "D/ST",
          "QB",
          "RB",
          "WR",
          "TE",
          "D/ST"
         ],
         "type": "scatterpolar",
         "uid": "05e5cc05-25d2-11e9-88e3-c49ded227fdd"
        },
        {
         "fill": "toself",
         "line": {
          "color": "rgb(131, 90, 241)",
          "width": 0.5
         },
         "marker": {
          "size": 1
         },
         "mode": "lines+markers",
         "name": "Week 6",
         "opacity": 0.4,
         "r": [
          10,
          28.4,
          21.65,
          13.77,
          5,
          10
         ],
         "theta": [
          "D/ST",
          "QB",
          "RB",
          "WR",
          "TE",
          "D/ST"
         ],
         "type": "scatterpolar",
         "uid": "05e5cc06-25d2-11e9-b4bd-c49ded227fdd"
        },
        {
         "fill": "toself",
         "line": {
          "color": "rgb(131, 90, 241)",
          "width": 0.5
         },
         "marker": {
          "size": 1
         },
         "mode": "lines+markers",
         "name": "Week 8",
         "opacity": 0.4,
         "r": [
          8,
          15.94,
          31.5,
          13.6,
          8.2,
          8
         ],
         "theta": [
          "D/ST",
          "QB",
          "RB",
          "WR",
          "TE",
          "D/ST"
         ],
         "type": "scatterpolar",
         "uid": "05e5cc07-25d2-11e9-bc41-c49ded227fdd"
        },
        {
         "fill": "toself",
         "line": {
          "color": "rgb(131, 90, 241)",
          "width": 0.5
         },
         "marker": {
          "size": 1
         },
         "mode": "lines+markers",
         "name": "Week 9",
         "opacity": 0.4,
         "r": [
          12,
          19.16,
          14.57,
          11.2,
          18.8,
          12
         ],
         "theta": [
          "D/ST",
          "QB",
          "RB",
          "WR",
          "TE",
          "D/ST"
         ],
         "type": "scatterpolar",
         "uid": "05e5cc08-25d2-11e9-953e-c49ded227fdd"
        },
        {
         "fill": "toself",
         "line": {
          "color": "rgb(131, 90, 241)",
          "width": 0.5
         },
         "marker": {
          "size": 1
         },
         "mode": "lines+markers",
         "name": "Week 11",
         "opacity": 0.4,
         "r": [
          0,
          21.58,
          13.9,
          14.17,
          4,
          0
         ],
         "theta": [
          "D/ST",
          "QB",
          "RB",
          "WR",
          "TE",
          "D/ST"
         ],
         "type": "scatterpolar",
         "uid": "05e5cc09-25d2-11e9-a07a-c49ded227fdd"
        },
        {
         "fill": "toself",
         "line": {
          "color": "rgb(131, 90, 241)",
          "width": 0.5
         },
         "marker": {
          "size": 1
         },
         "mode": "lines+markers",
         "name": "Week 12",
         "opacity": 0.4,
         "r": [
          10,
          20.68,
          17.6,
          11.4,
          8.8,
          10
         ],
         "theta": [
          "D/ST",
          "QB",
          "RB",
          "WR",
          "TE",
          "D/ST"
         ],
         "type": "scatterpolar",
         "uid": "05e5cc0a-25d2-11e9-98da-c49ded227fdd"
        },
        {
         "fill": "toself",
         "line": {
          "color": "rgb(131, 90, 241)",
          "width": 0.5
         },
         "marker": {
          "size": 1
         },
         "mode": "lines+markers",
         "name": "Week 13",
         "opacity": 0.4,
         "r": [
          14,
          15.32,
          15.7,
          8.28,
          10,
          14
         ],
         "theta": [
          "D/ST",
          "QB",
          "RB",
          "WR",
          "TE",
          "D/ST"
         ],
         "type": "scatterpolar",
         "uid": "05e5cc0b-25d2-11e9-82c5-c49ded227fdd"
        },
        {
         "line": {
          "color": "black",
          "width": 2
         },
         "name": "Season avg.",
         "opacity": 1,
         "r": [
          7.8,
          20.068,
          16.729,
          12.756,
          10.27,
          7.8
         ],
         "theta": [
          "D/ST",
          "QB",
          "RB",
          "WR",
          "TE",
          "D/ST"
         ],
         "type": "scatterpolar",
         "uid": "05e5cc0c-25d2-11e9-a3ce-c49ded227fdd"
        }
       ],
       "layout": {
        "autosize": false,
        "height": 520,
        "hovermode": "closest",
        "margin": {
         "b": 100,
         "l": 50,
         "pad": 4,
         "r": 50,
         "t": 100
        },
        "polar": {
         "radialaxis": {
          "range": [
           0,
           31.5
          ],
          "visible": true
         }
        },
        "showlegend": false,
        "title": "Average Positional Scoring in Wins for Team 4",
        "width": 800
       }
      },
      "text/html": [
       "<div id=\"4b713f5b-1cb2-408b-90fe-1c1d2105313d\" style=\"height: 520px; width: 800px;\" class=\"plotly-graph-div\"></div><script type=\"text/javascript\">require([\"plotly\"], function(Plotly) { window.PLOTLYENV=window.PLOTLYENV || {};window.PLOTLYENV.BASE_URL=\"https://plot.ly\";Plotly.newPlot(\"4b713f5b-1cb2-408b-90fe-1c1d2105313d\", [{\"fill\": \"toself\", \"line\": {\"color\": \"rgb(131, 90, 241)\", \"width\": 0.5}, \"marker\": {\"size\": 1}, \"mode\": \"lines+markers\", \"name\": \"Week 2\", \"opacity\": 0.4, \"r\": [11.0, 16.04, 11.93, 18.47, 3.2, 11.0], \"theta\": [\"D/ST\", \"QB\", \"RB\", \"WR\", \"TE\", \"D/ST\"], \"type\": \"scatterpolar\", \"uid\": \"05f0fb40-25d2-11e9-bafa-c49ded227fdd\"}, {\"fill\": \"toself\", \"line\": {\"color\": \"rgb(131, 90, 241)\", \"width\": 0.5}, \"marker\": {\"size\": 1}, \"mode\": \"lines+markers\", \"name\": \"Week 3\", \"opacity\": 0.4, \"r\": [11.0, 19.9, 14.0, 11.97, 12.4, 11.0], \"theta\": [\"D/ST\", \"QB\", \"RB\", \"WR\", \"TE\", \"D/ST\"], \"type\": \"scatterpolar\", \"uid\": \"05f0fb41-25d2-11e9-9974-c49ded227fdd\"}, {\"fill\": \"toself\", \"line\": {\"color\": \"rgb(131, 90, 241)\", \"width\": 0.5}, \"marker\": {\"size\": 1}, \"mode\": \"lines+markers\", \"name\": \"Week 4\", \"opacity\": 0.4, \"r\": [4.0, 29.26, 6.97, 15.4, 21.5, 4.0], \"theta\": [\"D/ST\", \"QB\", \"RB\", \"WR\", \"TE\", \"D/ST\"], \"type\": \"scatterpolar\", \"uid\": \"05f0fb42-25d2-11e9-99cc-c49ded227fdd\"}, {\"fill\": \"toself\", \"line\": {\"color\": \"rgb(131, 90, 241)\", \"width\": 0.5}, \"marker\": {\"size\": 1}, \"mode\": \"lines+markers\", \"name\": \"Week 5\", \"opacity\": 0.4, \"r\": [-2.0, 14.4, 19.47, 9.3, 10.8, -2.0], \"theta\": [\"D/ST\", \"QB\", \"RB\", \"WR\", \"TE\", \"D/ST\"], \"type\": \"scatterpolar\", \"uid\": \"05f0fb43-25d2-11e9-b79b-c49ded227fdd\"}, {\"fill\": \"toself\", \"line\": {\"color\": \"rgb(131, 90, 241)\", \"width\": 0.5}, \"marker\": {\"size\": 1}, \"mode\": \"lines+markers\", \"name\": \"Week 6\", \"opacity\": 0.4, \"r\": [10.0, 28.4, 21.65, 13.77, 5.0, 10.0], \"theta\": [\"D/ST\", \"QB\", \"RB\", \"WR\", \"TE\", \"D/ST\"], \"type\": \"scatterpolar\", \"uid\": \"05f0fb44-25d2-11e9-80f0-c49ded227fdd\"}, {\"fill\": \"toself\", \"line\": {\"color\": \"rgb(131, 90, 241)\", \"width\": 0.5}, \"marker\": {\"size\": 1}, \"mode\": \"lines+markers\", \"name\": \"Week 8\", \"opacity\": 0.4, \"r\": [8.0, 15.94, 31.5, 13.6, 8.2, 8.0], \"theta\": [\"D/ST\", \"QB\", \"RB\", \"WR\", \"TE\", \"D/ST\"], \"type\": \"scatterpolar\", \"uid\": \"05f0fb45-25d2-11e9-8a01-c49ded227fdd\"}, {\"fill\": \"toself\", \"line\": {\"color\": \"rgb(131, 90, 241)\", \"width\": 0.5}, \"marker\": {\"size\": 1}, \"mode\": \"lines+markers\", \"name\": \"Week 9\", \"opacity\": 0.4, \"r\": [12.0, 19.16, 14.57, 11.2, 18.8, 12.0], \"theta\": [\"D/ST\", \"QB\", \"RB\", \"WR\", \"TE\", \"D/ST\"], \"type\": \"scatterpolar\", \"uid\": \"05f0fb46-25d2-11e9-b78c-c49ded227fdd\"}, {\"fill\": \"toself\", \"line\": {\"color\": \"rgb(131, 90, 241)\", \"width\": 0.5}, \"marker\": {\"size\": 1}, \"mode\": \"lines+markers\", \"name\": \"Week 11\", \"opacity\": 0.4, \"r\": [0.0, 21.58, 13.9, 14.17, 4.0, 0.0], \"theta\": [\"D/ST\", \"QB\", \"RB\", \"WR\", \"TE\", \"D/ST\"], \"type\": \"scatterpolar\", \"uid\": \"05f0fb47-25d2-11e9-8023-c49ded227fdd\"}, {\"fill\": \"toself\", \"line\": {\"color\": \"rgb(131, 90, 241)\", \"width\": 0.5}, \"marker\": {\"size\": 1}, \"mode\": \"lines+markers\", \"name\": \"Week 12\", \"opacity\": 0.4, \"r\": [10.0, 20.68, 17.6, 11.4, 8.8, 10.0], \"theta\": [\"D/ST\", \"QB\", \"RB\", \"WR\", \"TE\", \"D/ST\"], \"type\": \"scatterpolar\", \"uid\": \"05f0fb48-25d2-11e9-99bf-c49ded227fdd\"}, {\"fill\": \"toself\", \"line\": {\"color\": \"rgb(131, 90, 241)\", \"width\": 0.5}, \"marker\": {\"size\": 1}, \"mode\": \"lines+markers\", \"name\": \"Week 13\", \"opacity\": 0.4, \"r\": [14.0, 15.32, 15.7, 8.28, 10.0, 14.0], \"theta\": [\"D/ST\", \"QB\", \"RB\", \"WR\", \"TE\", \"D/ST\"], \"type\": \"scatterpolar\", \"uid\": \"05f0fb49-25d2-11e9-ba6f-c49ded227fdd\"}, {\"line\": {\"color\": \"black\", \"width\": 2}, \"name\": \"Season avg.\", \"opacity\": 1, \"r\": [7.8, 20.068, 16.729, 12.756, 10.27, 7.8], \"theta\": [\"D/ST\", \"QB\", \"RB\", \"WR\", \"TE\", \"D/ST\"], \"type\": \"scatterpolar\", \"uid\": \"05f0fb4a-25d2-11e9-b6d4-c49ded227fdd\"}], {\"autosize\": false, \"height\": 520, \"hovermode\": \"closest\", \"margin\": {\"b\": 100, \"l\": 50, \"pad\": 4, \"r\": 50, \"t\": 100}, \"polar\": {\"radialaxis\": {\"range\": [0, 31.5], \"visible\": true}}, \"showlegend\": false, \"title\": \"Average Positional Scoring in Wins for Team 4\", \"width\": 800}, {\"showLink\": true, \"linkText\": \"Export to plot.ly\"})});</script>"
      ],
      "text/vnd.plotly.v1+html": [
       "<div id=\"4b713f5b-1cb2-408b-90fe-1c1d2105313d\" style=\"height: 520px; width: 800px;\" class=\"plotly-graph-div\"></div><script type=\"text/javascript\">require([\"plotly\"], function(Plotly) { window.PLOTLYENV=window.PLOTLYENV || {};window.PLOTLYENV.BASE_URL=\"https://plot.ly\";Plotly.newPlot(\"4b713f5b-1cb2-408b-90fe-1c1d2105313d\", [{\"fill\": \"toself\", \"line\": {\"color\": \"rgb(131, 90, 241)\", \"width\": 0.5}, \"marker\": {\"size\": 1}, \"mode\": \"lines+markers\", \"name\": \"Week 2\", \"opacity\": 0.4, \"r\": [11.0, 16.04, 11.93, 18.47, 3.2, 11.0], \"theta\": [\"D/ST\", \"QB\", \"RB\", \"WR\", \"TE\", \"D/ST\"], \"type\": \"scatterpolar\", \"uid\": \"05f0fb40-25d2-11e9-bafa-c49ded227fdd\"}, {\"fill\": \"toself\", \"line\": {\"color\": \"rgb(131, 90, 241)\", \"width\": 0.5}, \"marker\": {\"size\": 1}, \"mode\": \"lines+markers\", \"name\": \"Week 3\", \"opacity\": 0.4, \"r\": [11.0, 19.9, 14.0, 11.97, 12.4, 11.0], \"theta\": [\"D/ST\", \"QB\", \"RB\", \"WR\", \"TE\", \"D/ST\"], \"type\": \"scatterpolar\", \"uid\": \"05f0fb41-25d2-11e9-9974-c49ded227fdd\"}, {\"fill\": \"toself\", \"line\": {\"color\": \"rgb(131, 90, 241)\", \"width\": 0.5}, \"marker\": {\"size\": 1}, \"mode\": \"lines+markers\", \"name\": \"Week 4\", \"opacity\": 0.4, \"r\": [4.0, 29.26, 6.97, 15.4, 21.5, 4.0], \"theta\": [\"D/ST\", \"QB\", \"RB\", \"WR\", \"TE\", \"D/ST\"], \"type\": \"scatterpolar\", \"uid\": \"05f0fb42-25d2-11e9-99cc-c49ded227fdd\"}, {\"fill\": \"toself\", \"line\": {\"color\": \"rgb(131, 90, 241)\", \"width\": 0.5}, \"marker\": {\"size\": 1}, \"mode\": \"lines+markers\", \"name\": \"Week 5\", \"opacity\": 0.4, \"r\": [-2.0, 14.4, 19.47, 9.3, 10.8, -2.0], \"theta\": [\"D/ST\", \"QB\", \"RB\", \"WR\", \"TE\", \"D/ST\"], \"type\": \"scatterpolar\", \"uid\": \"05f0fb43-25d2-11e9-b79b-c49ded227fdd\"}, {\"fill\": \"toself\", \"line\": {\"color\": \"rgb(131, 90, 241)\", \"width\": 0.5}, \"marker\": {\"size\": 1}, \"mode\": \"lines+markers\", \"name\": \"Week 6\", \"opacity\": 0.4, \"r\": [10.0, 28.4, 21.65, 13.77, 5.0, 10.0], \"theta\": [\"D/ST\", \"QB\", \"RB\", \"WR\", \"TE\", \"D/ST\"], \"type\": \"scatterpolar\", \"uid\": \"05f0fb44-25d2-11e9-80f0-c49ded227fdd\"}, {\"fill\": \"toself\", \"line\": {\"color\": \"rgb(131, 90, 241)\", \"width\": 0.5}, \"marker\": {\"size\": 1}, \"mode\": \"lines+markers\", \"name\": \"Week 8\", \"opacity\": 0.4, \"r\": [8.0, 15.94, 31.5, 13.6, 8.2, 8.0], \"theta\": [\"D/ST\", \"QB\", \"RB\", \"WR\", \"TE\", \"D/ST\"], \"type\": \"scatterpolar\", \"uid\": \"05f0fb45-25d2-11e9-8a01-c49ded227fdd\"}, {\"fill\": \"toself\", \"line\": {\"color\": \"rgb(131, 90, 241)\", \"width\": 0.5}, \"marker\": {\"size\": 1}, \"mode\": \"lines+markers\", \"name\": \"Week 9\", \"opacity\": 0.4, \"r\": [12.0, 19.16, 14.57, 11.2, 18.8, 12.0], \"theta\": [\"D/ST\", \"QB\", \"RB\", \"WR\", \"TE\", \"D/ST\"], \"type\": \"scatterpolar\", \"uid\": \"05f0fb46-25d2-11e9-b78c-c49ded227fdd\"}, {\"fill\": \"toself\", \"line\": {\"color\": \"rgb(131, 90, 241)\", \"width\": 0.5}, \"marker\": {\"size\": 1}, \"mode\": \"lines+markers\", \"name\": \"Week 11\", \"opacity\": 0.4, \"r\": [0.0, 21.58, 13.9, 14.17, 4.0, 0.0], \"theta\": [\"D/ST\", \"QB\", \"RB\", \"WR\", \"TE\", \"D/ST\"], \"type\": \"scatterpolar\", \"uid\": \"05f0fb47-25d2-11e9-8023-c49ded227fdd\"}, {\"fill\": \"toself\", \"line\": {\"color\": \"rgb(131, 90, 241)\", \"width\": 0.5}, \"marker\": {\"size\": 1}, \"mode\": \"lines+markers\", \"name\": \"Week 12\", \"opacity\": 0.4, \"r\": [10.0, 20.68, 17.6, 11.4, 8.8, 10.0], \"theta\": [\"D/ST\", \"QB\", \"RB\", \"WR\", \"TE\", \"D/ST\"], \"type\": \"scatterpolar\", \"uid\": \"05f0fb48-25d2-11e9-99bf-c49ded227fdd\"}, {\"fill\": \"toself\", \"line\": {\"color\": \"rgb(131, 90, 241)\", \"width\": 0.5}, \"marker\": {\"size\": 1}, \"mode\": \"lines+markers\", \"name\": \"Week 13\", \"opacity\": 0.4, \"r\": [14.0, 15.32, 15.7, 8.28, 10.0, 14.0], \"theta\": [\"D/ST\", \"QB\", \"RB\", \"WR\", \"TE\", \"D/ST\"], \"type\": \"scatterpolar\", \"uid\": \"05f0fb49-25d2-11e9-ba6f-c49ded227fdd\"}, {\"line\": {\"color\": \"black\", \"width\": 2}, \"name\": \"Season avg.\", \"opacity\": 1, \"r\": [7.8, 20.068, 16.729, 12.756, 10.27, 7.8], \"theta\": [\"D/ST\", \"QB\", \"RB\", \"WR\", \"TE\", \"D/ST\"], \"type\": \"scatterpolar\", \"uid\": \"05f0fb4a-25d2-11e9-b6d4-c49ded227fdd\"}], {\"autosize\": false, \"height\": 520, \"hovermode\": \"closest\", \"margin\": {\"b\": 100, \"l\": 50, \"pad\": 4, \"r\": 50, \"t\": 100}, \"polar\": {\"radialaxis\": {\"range\": [0, 31.5], \"visible\": true}}, \"showlegend\": false, \"title\": \"Average Positional Scoring in Wins for Team 4\", \"width\": 800}, {\"showLink\": true, \"linkText\": \"Export to plot.ly\"})});</script>"
      ]
     },
     "metadata": {},
     "output_type": "display_data"
    }
   ],
   "source": [
    "# Box scores for selected team:\n",
    "df_team = positional_stats[positional_stats['Team'] == selected_team]\n",
    "# Box scores for selected team in wins:\n",
    "df_team_win = df_team[df_team['Won'] == True]\n",
    "# List of positions. 'D/ST' is listed twice to connect the radial trace:\n",
    "positions = ['D/ST', 'QB', 'RB', 'WR', 'TE', 'D/ST']\n",
    "# Loop through matchups:\n",
    "data_win = []\n",
    "for m in df_team_win['Matchup']:\n",
    "    trace1 = go.Scatterpolar(\n",
    "        # Loop through positions:\n",
    "        r = [df_team_win[df_team_win['Matchup'] == m][p].item() for p in positions],\n",
    "        theta = positions,\n",
    "        fill = 'toself',\n",
    "        opacity = 0.4,\n",
    "        mode = 'lines+markers',\n",
    "        line = dict(width = 0.5, color = 'rgb(131, 90, 241)'),\n",
    "        marker = dict(size = 1),\n",
    "        name = 'Week {}'.format(m))\n",
    "    data_win.append(trace1)\n",
    "\n",
    "# Create trace for average positional scores:\n",
    "trace2 = go.Scatterpolar(\n",
    "    r = [df_team_win[p].mean() for p in positions],\n",
    "    theta = positions,\n",
    "    name = 'Season avg.',\n",
    "    opacity = 1,\n",
    "    line = dict(width = 2,color = 'black'))\n",
    "data_win.append(trace2)\n",
    "\n",
    "layout = go.Layout(\n",
    "    title = 'Average Positional Scoring in Wins for {}'.format(selected_team),\n",
    "    hovermode = 'closest',\n",
    "    polar = dict(radialaxis = dict(visible = True, range = [0,df_team[positions].max().max()])),\n",
    "    showlegend = False,\n",
    "    autosize = False,\n",
    "    width = 800,\n",
    "    height = 520,\n",
    "    margin = dict(\n",
    "        l = 50,\n",
    "        r = 50,\n",
    "        b = 100,\n",
    "        t = 100,\n",
    "        pad = 4))\n",
    "\n",
    "fig = {'data':data_win,'layout':layout}\n",
    "iplot(fig)"
   ]
  },
  {
   "cell_type": "code",
   "execution_count": 7,
   "metadata": {
    "slideshow": {
     "slide_type": "subslide"
    }
   },
   "outputs": [
    {
     "data": {
      "application/vnd.plotly.v1+json": {
       "data": [
        {
         "fill": "toself",
         "line": {
          "color": "rgb(131, 90, 241)",
          "width": 0.5
         },
         "marker": {
          "size": 1
         },
         "mode": "lines+markers",
         "name": "Week 1",
         "opacity": 0.4,
         "r": [
          -3,
          24.94,
          8.87,
          13.67,
          11.5,
          -3
         ],
         "theta": [
          "D/ST",
          "QB",
          "RB",
          "WR",
          "TE",
          "D/ST"
         ],
         "type": "scatterpolar",
         "uid": "06022600-25d2-11e9-b844-c49ded227fdd"
        },
        {
         "fill": "toself",
         "line": {
          "color": "rgb(131, 90, 241)",
          "width": 0.5
         },
         "marker": {
          "size": 1
         },
         "mode": "lines+markers",
         "name": "Week 7",
         "opacity": 0.4,
         "r": [
          3,
          19.26,
          6.45,
          8.12,
          18.3,
          3
         ],
         "theta": [
          "D/ST",
          "QB",
          "RB",
          "WR",
          "TE",
          "D/ST"
         ],
         "type": "scatterpolar",
         "uid": "06022601-25d2-11e9-8b69-c49ded227fdd"
        },
        {
         "fill": "toself",
         "line": {
          "color": "rgb(131, 90, 241)",
          "width": 0.5
         },
         "marker": {
          "size": 1
         },
         "mode": "lines+markers",
         "name": "Week 10",
         "opacity": 0.4,
         "r": [
          10,
          18.06,
          16.23,
          7.43,
          12.8,
          10
         ],
         "theta": [
          "D/ST",
          "QB",
          "RB",
          "WR",
          "TE",
          "D/ST"
         ],
         "type": "scatterpolar",
         "uid": "06022602-25d2-11e9-bd1f-c49ded227fdd"
        },
        {
         "line": {
          "color": "black",
          "width": 2
         },
         "name": "Season avg.",
         "opacity": 1,
         "r": [
          3.3333333333333335,
          20.753333333333334,
          10.516666666666667,
          9.74,
          14.200000000000001,
          3.3333333333333335
         ],
         "theta": [
          "D/ST",
          "QB",
          "RB",
          "WR",
          "TE",
          "D/ST"
         ],
         "type": "scatterpolar",
         "uid": "06022603-25d2-11e9-a947-c49ded227fdd"
        }
       ],
       "layout": {
        "autosize": false,
        "height": 520,
        "hovermode": "closest",
        "margin": {
         "b": 100,
         "l": 50,
         "pad": 4,
         "r": 50,
         "t": 100
        },
        "polar": {
         "radialaxis": {
          "range": [
           0,
           31.5
          ],
          "visible": true
         }
        },
        "showlegend": false,
        "title": "Average Positional Scoring in Losses for Team 4",
        "width": 800
       }
      },
      "text/html": [
       "<div id=\"42e042e5-305e-4e63-a989-0e13847d7ba7\" style=\"height: 520px; width: 800px;\" class=\"plotly-graph-div\"></div><script type=\"text/javascript\">require([\"plotly\"], function(Plotly) { window.PLOTLYENV=window.PLOTLYENV || {};window.PLOTLYENV.BASE_URL=\"https://plot.ly\";Plotly.newPlot(\"42e042e5-305e-4e63-a989-0e13847d7ba7\", [{\"fill\": \"toself\", \"line\": {\"color\": \"rgb(131, 90, 241)\", \"width\": 0.5}, \"marker\": {\"size\": 1}, \"mode\": \"lines+markers\", \"name\": \"Week 1\", \"opacity\": 0.4, \"r\": [-3.0, 24.94, 8.87, 13.67, 11.5, -3.0], \"theta\": [\"D/ST\", \"QB\", \"RB\", \"WR\", \"TE\", \"D/ST\"], \"type\": \"scatterpolar\", \"uid\": \"0605cfb6-25d2-11e9-abfb-c49ded227fdd\"}, {\"fill\": \"toself\", \"line\": {\"color\": \"rgb(131, 90, 241)\", \"width\": 0.5}, \"marker\": {\"size\": 1}, \"mode\": \"lines+markers\", \"name\": \"Week 7\", \"opacity\": 0.4, \"r\": [3.0, 19.26, 6.45, 8.12, 18.3, 3.0], \"theta\": [\"D/ST\", \"QB\", \"RB\", \"WR\", \"TE\", \"D/ST\"], \"type\": \"scatterpolar\", \"uid\": \"0605cfb7-25d2-11e9-9736-c49ded227fdd\"}, {\"fill\": \"toself\", \"line\": {\"color\": \"rgb(131, 90, 241)\", \"width\": 0.5}, \"marker\": {\"size\": 1}, \"mode\": \"lines+markers\", \"name\": \"Week 10\", \"opacity\": 0.4, \"r\": [10.0, 18.06, 16.23, 7.43, 12.8, 10.0], \"theta\": [\"D/ST\", \"QB\", \"RB\", \"WR\", \"TE\", \"D/ST\"], \"type\": \"scatterpolar\", \"uid\": \"0605cfb8-25d2-11e9-aac5-c49ded227fdd\"}, {\"line\": {\"color\": \"black\", \"width\": 2}, \"name\": \"Season avg.\", \"opacity\": 1, \"r\": [3.3333333333333335, 20.753333333333334, 10.516666666666667, 9.74, 14.200000000000001, 3.3333333333333335], \"theta\": [\"D/ST\", \"QB\", \"RB\", \"WR\", \"TE\", \"D/ST\"], \"type\": \"scatterpolar\", \"uid\": \"0605cfb9-25d2-11e9-9e18-c49ded227fdd\"}], {\"autosize\": false, \"height\": 520, \"hovermode\": \"closest\", \"margin\": {\"b\": 100, \"l\": 50, \"pad\": 4, \"r\": 50, \"t\": 100}, \"polar\": {\"radialaxis\": {\"range\": [0, 31.5], \"visible\": true}}, \"showlegend\": false, \"title\": \"Average Positional Scoring in Losses for Team 4\", \"width\": 800}, {\"showLink\": true, \"linkText\": \"Export to plot.ly\"})});</script>"
      ],
      "text/vnd.plotly.v1+html": [
       "<div id=\"42e042e5-305e-4e63-a989-0e13847d7ba7\" style=\"height: 520px; width: 800px;\" class=\"plotly-graph-div\"></div><script type=\"text/javascript\">require([\"plotly\"], function(Plotly) { window.PLOTLYENV=window.PLOTLYENV || {};window.PLOTLYENV.BASE_URL=\"https://plot.ly\";Plotly.newPlot(\"42e042e5-305e-4e63-a989-0e13847d7ba7\", [{\"fill\": \"toself\", \"line\": {\"color\": \"rgb(131, 90, 241)\", \"width\": 0.5}, \"marker\": {\"size\": 1}, \"mode\": \"lines+markers\", \"name\": \"Week 1\", \"opacity\": 0.4, \"r\": [-3.0, 24.94, 8.87, 13.67, 11.5, -3.0], \"theta\": [\"D/ST\", \"QB\", \"RB\", \"WR\", \"TE\", \"D/ST\"], \"type\": \"scatterpolar\", \"uid\": \"0605cfb6-25d2-11e9-abfb-c49ded227fdd\"}, {\"fill\": \"toself\", \"line\": {\"color\": \"rgb(131, 90, 241)\", \"width\": 0.5}, \"marker\": {\"size\": 1}, \"mode\": \"lines+markers\", \"name\": \"Week 7\", \"opacity\": 0.4, \"r\": [3.0, 19.26, 6.45, 8.12, 18.3, 3.0], \"theta\": [\"D/ST\", \"QB\", \"RB\", \"WR\", \"TE\", \"D/ST\"], \"type\": \"scatterpolar\", \"uid\": \"0605cfb7-25d2-11e9-9736-c49ded227fdd\"}, {\"fill\": \"toself\", \"line\": {\"color\": \"rgb(131, 90, 241)\", \"width\": 0.5}, \"marker\": {\"size\": 1}, \"mode\": \"lines+markers\", \"name\": \"Week 10\", \"opacity\": 0.4, \"r\": [10.0, 18.06, 16.23, 7.43, 12.8, 10.0], \"theta\": [\"D/ST\", \"QB\", \"RB\", \"WR\", \"TE\", \"D/ST\"], \"type\": \"scatterpolar\", \"uid\": \"0605cfb8-25d2-11e9-aac5-c49ded227fdd\"}, {\"line\": {\"color\": \"black\", \"width\": 2}, \"name\": \"Season avg.\", \"opacity\": 1, \"r\": [3.3333333333333335, 20.753333333333334, 10.516666666666667, 9.74, 14.200000000000001, 3.3333333333333335], \"theta\": [\"D/ST\", \"QB\", \"RB\", \"WR\", \"TE\", \"D/ST\"], \"type\": \"scatterpolar\", \"uid\": \"0605cfb9-25d2-11e9-9e18-c49ded227fdd\"}], {\"autosize\": false, \"height\": 520, \"hovermode\": \"closest\", \"margin\": {\"b\": 100, \"l\": 50, \"pad\": 4, \"r\": 50, \"t\": 100}, \"polar\": {\"radialaxis\": {\"range\": [0, 31.5], \"visible\": true}}, \"showlegend\": false, \"title\": \"Average Positional Scoring in Losses for Team 4\", \"width\": 800}, {\"showLink\": true, \"linkText\": \"Export to plot.ly\"})});</script>"
      ]
     },
     "metadata": {},
     "output_type": "display_data"
    }
   ],
   "source": [
    "# Box scores for selected team in losses:\n",
    "df_team_loss = df_team[df_team['Won'] == False]\n",
    "# List of positions. 'D/ST' is listed twice to connect the radial trace:\n",
    "positions = ['D/ST', 'QB', 'RB', 'WR', 'TE', 'D/ST']\n",
    "# Loop through matchups:\n",
    "data_loss = []\n",
    "for m in df_team_loss['Matchup']:\n",
    "    trace1 = go.Scatterpolar(\n",
    "        # Loop through positions:\n",
    "        r = [df_team_loss[df_team_loss['Matchup'] == m][p].item() for p in positions],\n",
    "        theta = positions,\n",
    "        fill = 'toself',\n",
    "        opacity = 0.4,\n",
    "        mode = 'lines+markers',\n",
    "        line = dict(width = 0.5, color = 'rgb(131, 90, 241)'),\n",
    "        marker = dict(size = 1),\n",
    "        name = 'Week {}'.format(m))\n",
    "    data_loss.append(trace1)\n",
    "\n",
    "# Create trace for average positional scores:\n",
    "trace2 = go.Scatterpolar(\n",
    "    r = [df_team_loss[p].mean() for p in positions],\n",
    "    theta = positions,\n",
    "    name = 'Season avg.',\n",
    "    opacity = 1,\n",
    "    line = dict(width = 2,color = 'black'))\n",
    "data_loss.append(trace2)\n",
    "\n",
    "layout = go.Layout(\n",
    "    title = 'Average Positional Scoring in Losses for {}'.format(selected_team),\n",
    "    hovermode = 'closest',\n",
    "    polar = dict(radialaxis = dict(visible = True, range = [0,df_team[positions].max().max()])),\n",
    "    showlegend = False,\n",
    "    autosize = False,\n",
    "    width = 800,\n",
    "    height = 520,\n",
    "    margin = dict(\n",
    "        l = 50,\n",
    "        r = 50,\n",
    "        b = 100,\n",
    "        t = 100,\n",
    "        pad = 4))\n",
    "    \n",
    "fig = {'data':data_loss,'layout':layout}\n",
    "iplot(fig)"
   ]
  },
  {
   "cell_type": "markdown",
   "metadata": {
    "slideshow": {
     "slide_type": "slide"
    }
   },
   "source": [
    "## Check Out My [Sportsball Dashboard](https://sportsball-2018-dashboard.herokuapp.com/)!\n",
    "\n",
    "Visualization is my favorite part of the data analysis process. Creating team specific charts over the course of the whole season seemed restrictive to me, so I made an interactive dashboard with Plotly's Dash app.\n",
    "\n",
    "In addition to some tweaks to the existing visualizations, I added a team selection dropdown and a week selection slider so that users can explore the data on their own."
   ]
  },
  {
   "cell_type": "code",
   "execution_count": null,
   "metadata": {},
   "outputs": [],
   "source": []
  }
 ],
 "metadata": {
  "celltoolbar": "Slideshow",
  "kernelspec": {
   "display_name": "Python [default]",
   "language": "python",
   "name": "python3"
  },
  "language_info": {
   "codemirror_mode": {
    "name": "ipython",
    "version": 3
   },
   "file_extension": ".py",
   "mimetype": "text/x-python",
   "name": "python",
   "nbconvert_exporter": "python",
   "pygments_lexer": "ipython3",
   "version": "3.6.5"
  }
 },
 "nbformat": 4,
 "nbformat_minor": 2
}
